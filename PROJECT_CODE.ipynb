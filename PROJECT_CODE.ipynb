{
  "nbformat": 4,
  "nbformat_minor": 0,
  "metadata": {
    "colab": {
      "provenance": []
    },
    "kernelspec": {
      "name": "python3",
      "display_name": "Python 3"
    },
    "language_info": {
      "name": "python"
    }
  },
  "cells": [
    {
      "cell_type": "markdown",
      "source": [
        "# **FRAUD DETECTION MODEL FOR CREDIT CARD ACCURACY**"
      ],
      "metadata": {
        "id": "GhRFrw9Xxty2"
      }
    },
    {
      "cell_type": "markdown",
      "source": [
        "**DOWNLOAD THE DATASET AND UPLOAD IT TO THIS NOTEBOOK**\n",
        "\n",
        "DATASET: https://data.world/raghu543/credit-card-fraud-data"
      ],
      "metadata": {
        "id": "sDp2BOHsCTvL"
      }
    },
    {
      "cell_type": "markdown",
      "source": [
        "**LOAD DATA**"
      ],
      "metadata": {
        "id": "RyyUs8RsA7G1"
      }
    },
    {
      "cell_type": "code",
      "source": [
        "# import appropriate libraries\n",
        "import pandas as pd\n",
        "from sklearn.model_selection import train_test_split\n",
        "import matplotlib as mpl\n",
        "import matplotlib.pyplot as plt\n",
        "import seaborn as sns\n",
        "\n",
        "# load dataset\n",
        "df = pd.read_csv(\"/content/creditcard.csv\")\n",
        "df = df.reset_index()\n",
        "\n",
        "main_df = df.sample(frac = 1, random_state = 56)\n",
        "main_df = main_df.reset_index(drop = True)\n",
        "main_df = main_df.drop('index', axis = 1)\n",
        "\n",
        "# display first five rows of dataset to ensure properly loaded dataset\n",
        "main_df.head()"
      ],
      "metadata": {
        "colab": {
          "base_uri": "https://localhost:8080/",
          "height": 255
        },
        "id": "oTMugGlqxRuI",
        "outputId": "fb89cd49-fb53-4300-b907-8e824a6aa749"
      },
      "execution_count": 1,
      "outputs": [
        {
          "output_type": "execute_result",
          "data": {
            "text/plain": [
              "       Time        V1        V2        V3        V4        V5        V6  \\\n",
              "0  152560.0  2.098863 -0.836342 -1.711281 -0.808327 -0.364699 -1.161807   \n",
              "1   64545.0  1.159842  0.278477 -0.049123  1.290279 -0.104883 -0.914699   \n",
              "2  161575.0  2.218027 -1.675386 -0.001854 -1.647320 -1.847139  0.093849   \n",
              "3   37430.0  1.032012  0.091276  0.549280  1.108393 -0.285732 -0.323552   \n",
              "4   75249.0  1.081609 -1.797639  0.569294 -1.134712 -2.099889 -0.743407   \n",
              "\n",
              "         V7        V8        V9  ...       V21       V22       V23       V24  \\\n",
              "0 -0.045276 -0.335966 -0.776483  ...  0.301127  0.839545 -0.038797  0.067256   \n",
              "1  0.391910 -0.134945 -0.096485  ...  0.044502  0.071691 -0.071769  0.371351   \n",
              "2 -1.952372  0.192417 -0.806266  ... -0.082173  0.271982  0.296778 -0.504450   \n",
              "3  0.109829 -0.060591 -0.014528  ... -0.197359 -0.689959  0.102890  0.047948   \n",
              "4 -0.998303 -0.171101 -1.548716  ...  0.064507  0.088093 -0.185738  0.369997   \n",
              "\n",
              "        V25       V26       V27       V28  Amount  Class  \n",
              "0  0.272544 -0.019672 -0.070124 -0.079582   56.96      0  \n",
              "1  0.659592 -0.267537 -0.008821  0.011190   25.20      0  \n",
              "2 -0.559332 -0.223080  0.063655 -0.045098   10.00      0  \n",
              "3  0.208328 -0.674029  0.036184  0.044125   79.70      0  \n",
              "4  0.245524 -0.124256  0.008085  0.063739  228.00      0  \n",
              "\n",
              "[5 rows x 31 columns]"
            ],
            "text/html": [
              "\n",
              "  <div id=\"df-bbc743de-c921-46d6-aa66-7cc40dca8ed4\" class=\"colab-df-container\">\n",
              "    <div>\n",
              "<style scoped>\n",
              "    .dataframe tbody tr th:only-of-type {\n",
              "        vertical-align: middle;\n",
              "    }\n",
              "\n",
              "    .dataframe tbody tr th {\n",
              "        vertical-align: top;\n",
              "    }\n",
              "\n",
              "    .dataframe thead th {\n",
              "        text-align: right;\n",
              "    }\n",
              "</style>\n",
              "<table border=\"1\" class=\"dataframe\">\n",
              "  <thead>\n",
              "    <tr style=\"text-align: right;\">\n",
              "      <th></th>\n",
              "      <th>Time</th>\n",
              "      <th>V1</th>\n",
              "      <th>V2</th>\n",
              "      <th>V3</th>\n",
              "      <th>V4</th>\n",
              "      <th>V5</th>\n",
              "      <th>V6</th>\n",
              "      <th>V7</th>\n",
              "      <th>V8</th>\n",
              "      <th>V9</th>\n",
              "      <th>...</th>\n",
              "      <th>V21</th>\n",
              "      <th>V22</th>\n",
              "      <th>V23</th>\n",
              "      <th>V24</th>\n",
              "      <th>V25</th>\n",
              "      <th>V26</th>\n",
              "      <th>V27</th>\n",
              "      <th>V28</th>\n",
              "      <th>Amount</th>\n",
              "      <th>Class</th>\n",
              "    </tr>\n",
              "  </thead>\n",
              "  <tbody>\n",
              "    <tr>\n",
              "      <th>0</th>\n",
              "      <td>152560.0</td>\n",
              "      <td>2.098863</td>\n",
              "      <td>-0.836342</td>\n",
              "      <td>-1.711281</td>\n",
              "      <td>-0.808327</td>\n",
              "      <td>-0.364699</td>\n",
              "      <td>-1.161807</td>\n",
              "      <td>-0.045276</td>\n",
              "      <td>-0.335966</td>\n",
              "      <td>-0.776483</td>\n",
              "      <td>...</td>\n",
              "      <td>0.301127</td>\n",
              "      <td>0.839545</td>\n",
              "      <td>-0.038797</td>\n",
              "      <td>0.067256</td>\n",
              "      <td>0.272544</td>\n",
              "      <td>-0.019672</td>\n",
              "      <td>-0.070124</td>\n",
              "      <td>-0.079582</td>\n",
              "      <td>56.96</td>\n",
              "      <td>0</td>\n",
              "    </tr>\n",
              "    <tr>\n",
              "      <th>1</th>\n",
              "      <td>64545.0</td>\n",
              "      <td>1.159842</td>\n",
              "      <td>0.278477</td>\n",
              "      <td>-0.049123</td>\n",
              "      <td>1.290279</td>\n",
              "      <td>-0.104883</td>\n",
              "      <td>-0.914699</td>\n",
              "      <td>0.391910</td>\n",
              "      <td>-0.134945</td>\n",
              "      <td>-0.096485</td>\n",
              "      <td>...</td>\n",
              "      <td>0.044502</td>\n",
              "      <td>0.071691</td>\n",
              "      <td>-0.071769</td>\n",
              "      <td>0.371351</td>\n",
              "      <td>0.659592</td>\n",
              "      <td>-0.267537</td>\n",
              "      <td>-0.008821</td>\n",
              "      <td>0.011190</td>\n",
              "      <td>25.20</td>\n",
              "      <td>0</td>\n",
              "    </tr>\n",
              "    <tr>\n",
              "      <th>2</th>\n",
              "      <td>161575.0</td>\n",
              "      <td>2.218027</td>\n",
              "      <td>-1.675386</td>\n",
              "      <td>-0.001854</td>\n",
              "      <td>-1.647320</td>\n",
              "      <td>-1.847139</td>\n",
              "      <td>0.093849</td>\n",
              "      <td>-1.952372</td>\n",
              "      <td>0.192417</td>\n",
              "      <td>-0.806266</td>\n",
              "      <td>...</td>\n",
              "      <td>-0.082173</td>\n",
              "      <td>0.271982</td>\n",
              "      <td>0.296778</td>\n",
              "      <td>-0.504450</td>\n",
              "      <td>-0.559332</td>\n",
              "      <td>-0.223080</td>\n",
              "      <td>0.063655</td>\n",
              "      <td>-0.045098</td>\n",
              "      <td>10.00</td>\n",
              "      <td>0</td>\n",
              "    </tr>\n",
              "    <tr>\n",
              "      <th>3</th>\n",
              "      <td>37430.0</td>\n",
              "      <td>1.032012</td>\n",
              "      <td>0.091276</td>\n",
              "      <td>0.549280</td>\n",
              "      <td>1.108393</td>\n",
              "      <td>-0.285732</td>\n",
              "      <td>-0.323552</td>\n",
              "      <td>0.109829</td>\n",
              "      <td>-0.060591</td>\n",
              "      <td>-0.014528</td>\n",
              "      <td>...</td>\n",
              "      <td>-0.197359</td>\n",
              "      <td>-0.689959</td>\n",
              "      <td>0.102890</td>\n",
              "      <td>0.047948</td>\n",
              "      <td>0.208328</td>\n",
              "      <td>-0.674029</td>\n",
              "      <td>0.036184</td>\n",
              "      <td>0.044125</td>\n",
              "      <td>79.70</td>\n",
              "      <td>0</td>\n",
              "    </tr>\n",
              "    <tr>\n",
              "      <th>4</th>\n",
              "      <td>75249.0</td>\n",
              "      <td>1.081609</td>\n",
              "      <td>-1.797639</td>\n",
              "      <td>0.569294</td>\n",
              "      <td>-1.134712</td>\n",
              "      <td>-2.099889</td>\n",
              "      <td>-0.743407</td>\n",
              "      <td>-0.998303</td>\n",
              "      <td>-0.171101</td>\n",
              "      <td>-1.548716</td>\n",
              "      <td>...</td>\n",
              "      <td>0.064507</td>\n",
              "      <td>0.088093</td>\n",
              "      <td>-0.185738</td>\n",
              "      <td>0.369997</td>\n",
              "      <td>0.245524</td>\n",
              "      <td>-0.124256</td>\n",
              "      <td>0.008085</td>\n",
              "      <td>0.063739</td>\n",
              "      <td>228.00</td>\n",
              "      <td>0</td>\n",
              "    </tr>\n",
              "  </tbody>\n",
              "</table>\n",
              "<p>5 rows × 31 columns</p>\n",
              "</div>\n",
              "    <div class=\"colab-df-buttons\">\n",
              "\n",
              "  <div class=\"colab-df-container\">\n",
              "    <button class=\"colab-df-convert\" onclick=\"convertToInteractive('df-bbc743de-c921-46d6-aa66-7cc40dca8ed4')\"\n",
              "            title=\"Convert this dataframe to an interactive table.\"\n",
              "            style=\"display:none;\">\n",
              "\n",
              "  <svg xmlns=\"http://www.w3.org/2000/svg\" height=\"24px\" viewBox=\"0 -960 960 960\">\n",
              "    <path d=\"M120-120v-720h720v720H120Zm60-500h600v-160H180v160Zm220 220h160v-160H400v160Zm0 220h160v-160H400v160ZM180-400h160v-160H180v160Zm440 0h160v-160H620v160ZM180-180h160v-160H180v160Zm440 0h160v-160H620v160Z\"/>\n",
              "  </svg>\n",
              "    </button>\n",
              "\n",
              "  <style>\n",
              "    .colab-df-container {\n",
              "      display:flex;\n",
              "      gap: 12px;\n",
              "    }\n",
              "\n",
              "    .colab-df-convert {\n",
              "      background-color: #E8F0FE;\n",
              "      border: none;\n",
              "      border-radius: 50%;\n",
              "      cursor: pointer;\n",
              "      display: none;\n",
              "      fill: #1967D2;\n",
              "      height: 32px;\n",
              "      padding: 0 0 0 0;\n",
              "      width: 32px;\n",
              "    }\n",
              "\n",
              "    .colab-df-convert:hover {\n",
              "      background-color: #E2EBFA;\n",
              "      box-shadow: 0px 1px 2px rgba(60, 64, 67, 0.3), 0px 1px 3px 1px rgba(60, 64, 67, 0.15);\n",
              "      fill: #174EA6;\n",
              "    }\n",
              "\n",
              "    .colab-df-buttons div {\n",
              "      margin-bottom: 4px;\n",
              "    }\n",
              "\n",
              "    [theme=dark] .colab-df-convert {\n",
              "      background-color: #3B4455;\n",
              "      fill: #D2E3FC;\n",
              "    }\n",
              "\n",
              "    [theme=dark] .colab-df-convert:hover {\n",
              "      background-color: #434B5C;\n",
              "      box-shadow: 0px 1px 3px 1px rgba(0, 0, 0, 0.15);\n",
              "      filter: drop-shadow(0px 1px 2px rgba(0, 0, 0, 0.3));\n",
              "      fill: #FFFFFF;\n",
              "    }\n",
              "  </style>\n",
              "\n",
              "    <script>\n",
              "      const buttonEl =\n",
              "        document.querySelector('#df-bbc743de-c921-46d6-aa66-7cc40dca8ed4 button.colab-df-convert');\n",
              "      buttonEl.style.display =\n",
              "        google.colab.kernel.accessAllowed ? 'block' : 'none';\n",
              "\n",
              "      async function convertToInteractive(key) {\n",
              "        const element = document.querySelector('#df-bbc743de-c921-46d6-aa66-7cc40dca8ed4');\n",
              "        const dataTable =\n",
              "          await google.colab.kernel.invokeFunction('convertToInteractive',\n",
              "                                                    [key], {});\n",
              "        if (!dataTable) return;\n",
              "\n",
              "        const docLinkHtml = 'Like what you see? Visit the ' +\n",
              "          '<a target=\"_blank\" href=https://colab.research.google.com/notebooks/data_table.ipynb>data table notebook</a>'\n",
              "          + ' to learn more about interactive tables.';\n",
              "        element.innerHTML = '';\n",
              "        dataTable['output_type'] = 'display_data';\n",
              "        await google.colab.output.renderOutput(dataTable, element);\n",
              "        const docLink = document.createElement('div');\n",
              "        docLink.innerHTML = docLinkHtml;\n",
              "        element.appendChild(docLink);\n",
              "      }\n",
              "    </script>\n",
              "  </div>\n",
              "\n",
              "\n",
              "<div id=\"df-3baff5a5-64f9-4bbb-b7cc-3c74c39c998b\">\n",
              "  <button class=\"colab-df-quickchart\" onclick=\"quickchart('df-3baff5a5-64f9-4bbb-b7cc-3c74c39c998b')\"\n",
              "            title=\"Suggest charts\"\n",
              "            style=\"display:none;\">\n",
              "\n",
              "<svg xmlns=\"http://www.w3.org/2000/svg\" height=\"24px\"viewBox=\"0 0 24 24\"\n",
              "     width=\"24px\">\n",
              "    <g>\n",
              "        <path d=\"M19 3H5c-1.1 0-2 .9-2 2v14c0 1.1.9 2 2 2h14c1.1 0 2-.9 2-2V5c0-1.1-.9-2-2-2zM9 17H7v-7h2v7zm4 0h-2V7h2v10zm4 0h-2v-4h2v4z\"/>\n",
              "    </g>\n",
              "</svg>\n",
              "  </button>\n",
              "\n",
              "<style>\n",
              "  .colab-df-quickchart {\n",
              "      --bg-color: #E8F0FE;\n",
              "      --fill-color: #1967D2;\n",
              "      --hover-bg-color: #E2EBFA;\n",
              "      --hover-fill-color: #174EA6;\n",
              "      --disabled-fill-color: #AAA;\n",
              "      --disabled-bg-color: #DDD;\n",
              "  }\n",
              "\n",
              "  [theme=dark] .colab-df-quickchart {\n",
              "      --bg-color: #3B4455;\n",
              "      --fill-color: #D2E3FC;\n",
              "      --hover-bg-color: #434B5C;\n",
              "      --hover-fill-color: #FFFFFF;\n",
              "      --disabled-bg-color: #3B4455;\n",
              "      --disabled-fill-color: #666;\n",
              "  }\n",
              "\n",
              "  .colab-df-quickchart {\n",
              "    background-color: var(--bg-color);\n",
              "    border: none;\n",
              "    border-radius: 50%;\n",
              "    cursor: pointer;\n",
              "    display: none;\n",
              "    fill: var(--fill-color);\n",
              "    height: 32px;\n",
              "    padding: 0;\n",
              "    width: 32px;\n",
              "  }\n",
              "\n",
              "  .colab-df-quickchart:hover {\n",
              "    background-color: var(--hover-bg-color);\n",
              "    box-shadow: 0 1px 2px rgba(60, 64, 67, 0.3), 0 1px 3px 1px rgba(60, 64, 67, 0.15);\n",
              "    fill: var(--button-hover-fill-color);\n",
              "  }\n",
              "\n",
              "  .colab-df-quickchart-complete:disabled,\n",
              "  .colab-df-quickchart-complete:disabled:hover {\n",
              "    background-color: var(--disabled-bg-color);\n",
              "    fill: var(--disabled-fill-color);\n",
              "    box-shadow: none;\n",
              "  }\n",
              "\n",
              "  .colab-df-spinner {\n",
              "    border: 2px solid var(--fill-color);\n",
              "    border-color: transparent;\n",
              "    border-bottom-color: var(--fill-color);\n",
              "    animation:\n",
              "      spin 1s steps(1) infinite;\n",
              "  }\n",
              "\n",
              "  @keyframes spin {\n",
              "    0% {\n",
              "      border-color: transparent;\n",
              "      border-bottom-color: var(--fill-color);\n",
              "      border-left-color: var(--fill-color);\n",
              "    }\n",
              "    20% {\n",
              "      border-color: transparent;\n",
              "      border-left-color: var(--fill-color);\n",
              "      border-top-color: var(--fill-color);\n",
              "    }\n",
              "    30% {\n",
              "      border-color: transparent;\n",
              "      border-left-color: var(--fill-color);\n",
              "      border-top-color: var(--fill-color);\n",
              "      border-right-color: var(--fill-color);\n",
              "    }\n",
              "    40% {\n",
              "      border-color: transparent;\n",
              "      border-right-color: var(--fill-color);\n",
              "      border-top-color: var(--fill-color);\n",
              "    }\n",
              "    60% {\n",
              "      border-color: transparent;\n",
              "      border-right-color: var(--fill-color);\n",
              "    }\n",
              "    80% {\n",
              "      border-color: transparent;\n",
              "      border-right-color: var(--fill-color);\n",
              "      border-bottom-color: var(--fill-color);\n",
              "    }\n",
              "    90% {\n",
              "      border-color: transparent;\n",
              "      border-bottom-color: var(--fill-color);\n",
              "    }\n",
              "  }\n",
              "</style>\n",
              "\n",
              "  <script>\n",
              "    async function quickchart(key) {\n",
              "      const quickchartButtonEl =\n",
              "        document.querySelector('#' + key + ' button');\n",
              "      quickchartButtonEl.disabled = true;  // To prevent multiple clicks.\n",
              "      quickchartButtonEl.classList.add('colab-df-spinner');\n",
              "      try {\n",
              "        const charts = await google.colab.kernel.invokeFunction(\n",
              "            'suggestCharts', [key], {});\n",
              "      } catch (error) {\n",
              "        console.error('Error during call to suggestCharts:', error);\n",
              "      }\n",
              "      quickchartButtonEl.classList.remove('colab-df-spinner');\n",
              "      quickchartButtonEl.classList.add('colab-df-quickchart-complete');\n",
              "    }\n",
              "    (() => {\n",
              "      let quickchartButtonEl =\n",
              "        document.querySelector('#df-3baff5a5-64f9-4bbb-b7cc-3c74c39c998b button');\n",
              "      quickchartButtonEl.style.display =\n",
              "        google.colab.kernel.accessAllowed ? 'block' : 'none';\n",
              "    })();\n",
              "  </script>\n",
              "</div>\n",
              "    </div>\n",
              "  </div>\n"
            ],
            "application/vnd.google.colaboratory.intrinsic+json": {
              "type": "dataframe",
              "variable_name": "main_df"
            }
          },
          "metadata": {},
          "execution_count": 1
        }
      ]
    },
    {
      "cell_type": "markdown",
      "source": [
        "**CLEAN DATA**"
      ],
      "metadata": {
        "id": "gnI8WpVeBGp1"
      }
    },
    {
      "cell_type": "code",
      "source": [
        "# checks for duplicates within dataset (removes if found)\n",
        "duplicates = main_df[df.duplicated()]\n",
        "if duplicates.empty:\n",
        "    print(\"No duplicate rows were found in the dataset\")\n",
        "else:\n",
        "    print(\"Duplicate rows that were found:\")\n",
        "    print(duplicates)\n",
        "\n",
        "print()\n",
        "\n",
        "# checks for null values (removes if found)\n",
        "null_values = main_df.isnull().sum()\n",
        "print(null_values)"
      ],
      "metadata": {
        "colab": {
          "base_uri": "https://localhost:8080/"
        },
        "id": "P6eINQrB1x5r",
        "outputId": "de7b5ca8-8416-421f-de18-1edfca6dc282"
      },
      "execution_count": 2,
      "outputs": [
        {
          "output_type": "stream",
          "name": "stdout",
          "text": [
            "No duplicate rows were found in the dataset\n",
            "\n",
            "Time      0\n",
            "V1        0\n",
            "V2        0\n",
            "V3        0\n",
            "V4        0\n",
            "V5        0\n",
            "V6        0\n",
            "V7        0\n",
            "V8        0\n",
            "V9        0\n",
            "V10       0\n",
            "V11       0\n",
            "V12       0\n",
            "V13       0\n",
            "V14       0\n",
            "V15       0\n",
            "V16       0\n",
            "V17       0\n",
            "V18       0\n",
            "V19       0\n",
            "V20       0\n",
            "V21       0\n",
            "V22       0\n",
            "V23       0\n",
            "V24       0\n",
            "V25       0\n",
            "V26       0\n",
            "V27       0\n",
            "V28       0\n",
            "Amount    0\n",
            "Class     0\n",
            "dtype: int64\n"
          ]
        }
      ]
    },
    {
      "cell_type": "markdown",
      "source": [
        " After cleaning the dataset, we are able to conclude that the data looks clean. There were no duplicates nor any null values found. Aditionally, the data type is consistent throughout the dataset so no need for any conversions. We can continue on with utilizing the dataset to test and train to further this investigation."
      ],
      "metadata": {
        "id": "bk2FYRRxPa6R"
      }
    },
    {
      "cell_type": "markdown",
      "source": [
        "**TESTING AND TRAINING DATASET**"
      ],
      "metadata": {
        "id": "8EaEHkmvBMwQ"
      }
    },
    {
      "cell_type": "code",
      "source": [
        "# select subsets of the DataFrame\n",
        "train_df = main_df.iloc[:1000, :32]\n",
        "test_df = main_df.iloc[1000:2000, :32]\n",
        "\n",
        "train_df.head()"
      ],
      "metadata": {
        "colab": {
          "base_uri": "https://localhost:8080/",
          "height": 255
        },
        "id": "ETqH_K5nA3iq",
        "outputId": "0d6a798b-918c-4ba5-857b-668098bdaa69"
      },
      "execution_count": 3,
      "outputs": [
        {
          "output_type": "execute_result",
          "data": {
            "text/plain": [
              "       Time        V1        V2        V3        V4        V5        V6  \\\n",
              "0  152560.0  2.098863 -0.836342 -1.711281 -0.808327 -0.364699 -1.161807   \n",
              "1   64545.0  1.159842  0.278477 -0.049123  1.290279 -0.104883 -0.914699   \n",
              "2  161575.0  2.218027 -1.675386 -0.001854 -1.647320 -1.847139  0.093849   \n",
              "3   37430.0  1.032012  0.091276  0.549280  1.108393 -0.285732 -0.323552   \n",
              "4   75249.0  1.081609 -1.797639  0.569294 -1.134712 -2.099889 -0.743407   \n",
              "\n",
              "         V7        V8        V9  ...       V21       V22       V23       V24  \\\n",
              "0 -0.045276 -0.335966 -0.776483  ...  0.301127  0.839545 -0.038797  0.067256   \n",
              "1  0.391910 -0.134945 -0.096485  ...  0.044502  0.071691 -0.071769  0.371351   \n",
              "2 -1.952372  0.192417 -0.806266  ... -0.082173  0.271982  0.296778 -0.504450   \n",
              "3  0.109829 -0.060591 -0.014528  ... -0.197359 -0.689959  0.102890  0.047948   \n",
              "4 -0.998303 -0.171101 -1.548716  ...  0.064507  0.088093 -0.185738  0.369997   \n",
              "\n",
              "        V25       V26       V27       V28  Amount  Class  \n",
              "0  0.272544 -0.019672 -0.070124 -0.079582   56.96      0  \n",
              "1  0.659592 -0.267537 -0.008821  0.011190   25.20      0  \n",
              "2 -0.559332 -0.223080  0.063655 -0.045098   10.00      0  \n",
              "3  0.208328 -0.674029  0.036184  0.044125   79.70      0  \n",
              "4  0.245524 -0.124256  0.008085  0.063739  228.00      0  \n",
              "\n",
              "[5 rows x 31 columns]"
            ],
            "text/html": [
              "\n",
              "  <div id=\"df-6b139e8e-cb4c-4b54-830e-8ccb2f238612\" class=\"colab-df-container\">\n",
              "    <div>\n",
              "<style scoped>\n",
              "    .dataframe tbody tr th:only-of-type {\n",
              "        vertical-align: middle;\n",
              "    }\n",
              "\n",
              "    .dataframe tbody tr th {\n",
              "        vertical-align: top;\n",
              "    }\n",
              "\n",
              "    .dataframe thead th {\n",
              "        text-align: right;\n",
              "    }\n",
              "</style>\n",
              "<table border=\"1\" class=\"dataframe\">\n",
              "  <thead>\n",
              "    <tr style=\"text-align: right;\">\n",
              "      <th></th>\n",
              "      <th>Time</th>\n",
              "      <th>V1</th>\n",
              "      <th>V2</th>\n",
              "      <th>V3</th>\n",
              "      <th>V4</th>\n",
              "      <th>V5</th>\n",
              "      <th>V6</th>\n",
              "      <th>V7</th>\n",
              "      <th>V8</th>\n",
              "      <th>V9</th>\n",
              "      <th>...</th>\n",
              "      <th>V21</th>\n",
              "      <th>V22</th>\n",
              "      <th>V23</th>\n",
              "      <th>V24</th>\n",
              "      <th>V25</th>\n",
              "      <th>V26</th>\n",
              "      <th>V27</th>\n",
              "      <th>V28</th>\n",
              "      <th>Amount</th>\n",
              "      <th>Class</th>\n",
              "    </tr>\n",
              "  </thead>\n",
              "  <tbody>\n",
              "    <tr>\n",
              "      <th>0</th>\n",
              "      <td>152560.0</td>\n",
              "      <td>2.098863</td>\n",
              "      <td>-0.836342</td>\n",
              "      <td>-1.711281</td>\n",
              "      <td>-0.808327</td>\n",
              "      <td>-0.364699</td>\n",
              "      <td>-1.161807</td>\n",
              "      <td>-0.045276</td>\n",
              "      <td>-0.335966</td>\n",
              "      <td>-0.776483</td>\n",
              "      <td>...</td>\n",
              "      <td>0.301127</td>\n",
              "      <td>0.839545</td>\n",
              "      <td>-0.038797</td>\n",
              "      <td>0.067256</td>\n",
              "      <td>0.272544</td>\n",
              "      <td>-0.019672</td>\n",
              "      <td>-0.070124</td>\n",
              "      <td>-0.079582</td>\n",
              "      <td>56.96</td>\n",
              "      <td>0</td>\n",
              "    </tr>\n",
              "    <tr>\n",
              "      <th>1</th>\n",
              "      <td>64545.0</td>\n",
              "      <td>1.159842</td>\n",
              "      <td>0.278477</td>\n",
              "      <td>-0.049123</td>\n",
              "      <td>1.290279</td>\n",
              "      <td>-0.104883</td>\n",
              "      <td>-0.914699</td>\n",
              "      <td>0.391910</td>\n",
              "      <td>-0.134945</td>\n",
              "      <td>-0.096485</td>\n",
              "      <td>...</td>\n",
              "      <td>0.044502</td>\n",
              "      <td>0.071691</td>\n",
              "      <td>-0.071769</td>\n",
              "      <td>0.371351</td>\n",
              "      <td>0.659592</td>\n",
              "      <td>-0.267537</td>\n",
              "      <td>-0.008821</td>\n",
              "      <td>0.011190</td>\n",
              "      <td>25.20</td>\n",
              "      <td>0</td>\n",
              "    </tr>\n",
              "    <tr>\n",
              "      <th>2</th>\n",
              "      <td>161575.0</td>\n",
              "      <td>2.218027</td>\n",
              "      <td>-1.675386</td>\n",
              "      <td>-0.001854</td>\n",
              "      <td>-1.647320</td>\n",
              "      <td>-1.847139</td>\n",
              "      <td>0.093849</td>\n",
              "      <td>-1.952372</td>\n",
              "      <td>0.192417</td>\n",
              "      <td>-0.806266</td>\n",
              "      <td>...</td>\n",
              "      <td>-0.082173</td>\n",
              "      <td>0.271982</td>\n",
              "      <td>0.296778</td>\n",
              "      <td>-0.504450</td>\n",
              "      <td>-0.559332</td>\n",
              "      <td>-0.223080</td>\n",
              "      <td>0.063655</td>\n",
              "      <td>-0.045098</td>\n",
              "      <td>10.00</td>\n",
              "      <td>0</td>\n",
              "    </tr>\n",
              "    <tr>\n",
              "      <th>3</th>\n",
              "      <td>37430.0</td>\n",
              "      <td>1.032012</td>\n",
              "      <td>0.091276</td>\n",
              "      <td>0.549280</td>\n",
              "      <td>1.108393</td>\n",
              "      <td>-0.285732</td>\n",
              "      <td>-0.323552</td>\n",
              "      <td>0.109829</td>\n",
              "      <td>-0.060591</td>\n",
              "      <td>-0.014528</td>\n",
              "      <td>...</td>\n",
              "      <td>-0.197359</td>\n",
              "      <td>-0.689959</td>\n",
              "      <td>0.102890</td>\n",
              "      <td>0.047948</td>\n",
              "      <td>0.208328</td>\n",
              "      <td>-0.674029</td>\n",
              "      <td>0.036184</td>\n",
              "      <td>0.044125</td>\n",
              "      <td>79.70</td>\n",
              "      <td>0</td>\n",
              "    </tr>\n",
              "    <tr>\n",
              "      <th>4</th>\n",
              "      <td>75249.0</td>\n",
              "      <td>1.081609</td>\n",
              "      <td>-1.797639</td>\n",
              "      <td>0.569294</td>\n",
              "      <td>-1.134712</td>\n",
              "      <td>-2.099889</td>\n",
              "      <td>-0.743407</td>\n",
              "      <td>-0.998303</td>\n",
              "      <td>-0.171101</td>\n",
              "      <td>-1.548716</td>\n",
              "      <td>...</td>\n",
              "      <td>0.064507</td>\n",
              "      <td>0.088093</td>\n",
              "      <td>-0.185738</td>\n",
              "      <td>0.369997</td>\n",
              "      <td>0.245524</td>\n",
              "      <td>-0.124256</td>\n",
              "      <td>0.008085</td>\n",
              "      <td>0.063739</td>\n",
              "      <td>228.00</td>\n",
              "      <td>0</td>\n",
              "    </tr>\n",
              "  </tbody>\n",
              "</table>\n",
              "<p>5 rows × 31 columns</p>\n",
              "</div>\n",
              "    <div class=\"colab-df-buttons\">\n",
              "\n",
              "  <div class=\"colab-df-container\">\n",
              "    <button class=\"colab-df-convert\" onclick=\"convertToInteractive('df-6b139e8e-cb4c-4b54-830e-8ccb2f238612')\"\n",
              "            title=\"Convert this dataframe to an interactive table.\"\n",
              "            style=\"display:none;\">\n",
              "\n",
              "  <svg xmlns=\"http://www.w3.org/2000/svg\" height=\"24px\" viewBox=\"0 -960 960 960\">\n",
              "    <path d=\"M120-120v-720h720v720H120Zm60-500h600v-160H180v160Zm220 220h160v-160H400v160Zm0 220h160v-160H400v160ZM180-400h160v-160H180v160Zm440 0h160v-160H620v160ZM180-180h160v-160H180v160Zm440 0h160v-160H620v160Z\"/>\n",
              "  </svg>\n",
              "    </button>\n",
              "\n",
              "  <style>\n",
              "    .colab-df-container {\n",
              "      display:flex;\n",
              "      gap: 12px;\n",
              "    }\n",
              "\n",
              "    .colab-df-convert {\n",
              "      background-color: #E8F0FE;\n",
              "      border: none;\n",
              "      border-radius: 50%;\n",
              "      cursor: pointer;\n",
              "      display: none;\n",
              "      fill: #1967D2;\n",
              "      height: 32px;\n",
              "      padding: 0 0 0 0;\n",
              "      width: 32px;\n",
              "    }\n",
              "\n",
              "    .colab-df-convert:hover {\n",
              "      background-color: #E2EBFA;\n",
              "      box-shadow: 0px 1px 2px rgba(60, 64, 67, 0.3), 0px 1px 3px 1px rgba(60, 64, 67, 0.15);\n",
              "      fill: #174EA6;\n",
              "    }\n",
              "\n",
              "    .colab-df-buttons div {\n",
              "      margin-bottom: 4px;\n",
              "    }\n",
              "\n",
              "    [theme=dark] .colab-df-convert {\n",
              "      background-color: #3B4455;\n",
              "      fill: #D2E3FC;\n",
              "    }\n",
              "\n",
              "    [theme=dark] .colab-df-convert:hover {\n",
              "      background-color: #434B5C;\n",
              "      box-shadow: 0px 1px 3px 1px rgba(0, 0, 0, 0.15);\n",
              "      filter: drop-shadow(0px 1px 2px rgba(0, 0, 0, 0.3));\n",
              "      fill: #FFFFFF;\n",
              "    }\n",
              "  </style>\n",
              "\n",
              "    <script>\n",
              "      const buttonEl =\n",
              "        document.querySelector('#df-6b139e8e-cb4c-4b54-830e-8ccb2f238612 button.colab-df-convert');\n",
              "      buttonEl.style.display =\n",
              "        google.colab.kernel.accessAllowed ? 'block' : 'none';\n",
              "\n",
              "      async function convertToInteractive(key) {\n",
              "        const element = document.querySelector('#df-6b139e8e-cb4c-4b54-830e-8ccb2f238612');\n",
              "        const dataTable =\n",
              "          await google.colab.kernel.invokeFunction('convertToInteractive',\n",
              "                                                    [key], {});\n",
              "        if (!dataTable) return;\n",
              "\n",
              "        const docLinkHtml = 'Like what you see? Visit the ' +\n",
              "          '<a target=\"_blank\" href=https://colab.research.google.com/notebooks/data_table.ipynb>data table notebook</a>'\n",
              "          + ' to learn more about interactive tables.';\n",
              "        element.innerHTML = '';\n",
              "        dataTable['output_type'] = 'display_data';\n",
              "        await google.colab.output.renderOutput(dataTable, element);\n",
              "        const docLink = document.createElement('div');\n",
              "        docLink.innerHTML = docLinkHtml;\n",
              "        element.appendChild(docLink);\n",
              "      }\n",
              "    </script>\n",
              "  </div>\n",
              "\n",
              "\n",
              "<div id=\"df-30323a0c-5be3-45af-8e4c-ccf1c496aef3\">\n",
              "  <button class=\"colab-df-quickchart\" onclick=\"quickchart('df-30323a0c-5be3-45af-8e4c-ccf1c496aef3')\"\n",
              "            title=\"Suggest charts\"\n",
              "            style=\"display:none;\">\n",
              "\n",
              "<svg xmlns=\"http://www.w3.org/2000/svg\" height=\"24px\"viewBox=\"0 0 24 24\"\n",
              "     width=\"24px\">\n",
              "    <g>\n",
              "        <path d=\"M19 3H5c-1.1 0-2 .9-2 2v14c0 1.1.9 2 2 2h14c1.1 0 2-.9 2-2V5c0-1.1-.9-2-2-2zM9 17H7v-7h2v7zm4 0h-2V7h2v10zm4 0h-2v-4h2v4z\"/>\n",
              "    </g>\n",
              "</svg>\n",
              "  </button>\n",
              "\n",
              "<style>\n",
              "  .colab-df-quickchart {\n",
              "      --bg-color: #E8F0FE;\n",
              "      --fill-color: #1967D2;\n",
              "      --hover-bg-color: #E2EBFA;\n",
              "      --hover-fill-color: #174EA6;\n",
              "      --disabled-fill-color: #AAA;\n",
              "      --disabled-bg-color: #DDD;\n",
              "  }\n",
              "\n",
              "  [theme=dark] .colab-df-quickchart {\n",
              "      --bg-color: #3B4455;\n",
              "      --fill-color: #D2E3FC;\n",
              "      --hover-bg-color: #434B5C;\n",
              "      --hover-fill-color: #FFFFFF;\n",
              "      --disabled-bg-color: #3B4455;\n",
              "      --disabled-fill-color: #666;\n",
              "  }\n",
              "\n",
              "  .colab-df-quickchart {\n",
              "    background-color: var(--bg-color);\n",
              "    border: none;\n",
              "    border-radius: 50%;\n",
              "    cursor: pointer;\n",
              "    display: none;\n",
              "    fill: var(--fill-color);\n",
              "    height: 32px;\n",
              "    padding: 0;\n",
              "    width: 32px;\n",
              "  }\n",
              "\n",
              "  .colab-df-quickchart:hover {\n",
              "    background-color: var(--hover-bg-color);\n",
              "    box-shadow: 0 1px 2px rgba(60, 64, 67, 0.3), 0 1px 3px 1px rgba(60, 64, 67, 0.15);\n",
              "    fill: var(--button-hover-fill-color);\n",
              "  }\n",
              "\n",
              "  .colab-df-quickchart-complete:disabled,\n",
              "  .colab-df-quickchart-complete:disabled:hover {\n",
              "    background-color: var(--disabled-bg-color);\n",
              "    fill: var(--disabled-fill-color);\n",
              "    box-shadow: none;\n",
              "  }\n",
              "\n",
              "  .colab-df-spinner {\n",
              "    border: 2px solid var(--fill-color);\n",
              "    border-color: transparent;\n",
              "    border-bottom-color: var(--fill-color);\n",
              "    animation:\n",
              "      spin 1s steps(1) infinite;\n",
              "  }\n",
              "\n",
              "  @keyframes spin {\n",
              "    0% {\n",
              "      border-color: transparent;\n",
              "      border-bottom-color: var(--fill-color);\n",
              "      border-left-color: var(--fill-color);\n",
              "    }\n",
              "    20% {\n",
              "      border-color: transparent;\n",
              "      border-left-color: var(--fill-color);\n",
              "      border-top-color: var(--fill-color);\n",
              "    }\n",
              "    30% {\n",
              "      border-color: transparent;\n",
              "      border-left-color: var(--fill-color);\n",
              "      border-top-color: var(--fill-color);\n",
              "      border-right-color: var(--fill-color);\n",
              "    }\n",
              "    40% {\n",
              "      border-color: transparent;\n",
              "      border-right-color: var(--fill-color);\n",
              "      border-top-color: var(--fill-color);\n",
              "    }\n",
              "    60% {\n",
              "      border-color: transparent;\n",
              "      border-right-color: var(--fill-color);\n",
              "    }\n",
              "    80% {\n",
              "      border-color: transparent;\n",
              "      border-right-color: var(--fill-color);\n",
              "      border-bottom-color: var(--fill-color);\n",
              "    }\n",
              "    90% {\n",
              "      border-color: transparent;\n",
              "      border-bottom-color: var(--fill-color);\n",
              "    }\n",
              "  }\n",
              "</style>\n",
              "\n",
              "  <script>\n",
              "    async function quickchart(key) {\n",
              "      const quickchartButtonEl =\n",
              "        document.querySelector('#' + key + ' button');\n",
              "      quickchartButtonEl.disabled = true;  // To prevent multiple clicks.\n",
              "      quickchartButtonEl.classList.add('colab-df-spinner');\n",
              "      try {\n",
              "        const charts = await google.colab.kernel.invokeFunction(\n",
              "            'suggestCharts', [key], {});\n",
              "      } catch (error) {\n",
              "        console.error('Error during call to suggestCharts:', error);\n",
              "      }\n",
              "      quickchartButtonEl.classList.remove('colab-df-spinner');\n",
              "      quickchartButtonEl.classList.add('colab-df-quickchart-complete');\n",
              "    }\n",
              "    (() => {\n",
              "      let quickchartButtonEl =\n",
              "        document.querySelector('#df-30323a0c-5be3-45af-8e4c-ccf1c496aef3 button');\n",
              "      quickchartButtonEl.style.display =\n",
              "        google.colab.kernel.accessAllowed ? 'block' : 'none';\n",
              "    })();\n",
              "  </script>\n",
              "</div>\n",
              "    </div>\n",
              "  </div>\n"
            ],
            "application/vnd.google.colaboratory.intrinsic+json": {
              "type": "dataframe",
              "variable_name": "train_df"
            }
          },
          "metadata": {},
          "execution_count": 3
        }
      ]
    },
    {
      "cell_type": "markdown",
      "source": [
        "**VARIABLE CORRELATION**"
      ],
      "metadata": {
        "id": "7qs7LYXPBRfo"
      }
    },
    {
      "cell_type": "code",
      "source": [
        "# create a correlation matrix\n",
        "df_noID = main_df.drop('Time', axis = 1)\n",
        "correlation_matrix = df_noID.corr()\n",
        "\n",
        "# create heatmap to visualize variables that are mostly correlated to eachother\n",
        "plt.figure(figsize=(10,8))\n",
        "sns.heatmap(correlation_matrix, annot = False, cmap = 'coolwarm', fmt = '.2f', linewidths = 0.5)\n",
        "plt.title(\"Correlation Matrix\")\n",
        "plt.show()"
      ],
      "metadata": {
        "colab": {
          "base_uri": "https://localhost:8080/",
          "height": 739
        },
        "id": "qf1rqjytBR-K",
        "outputId": "2005add0-1b04-4033-8ca7-4fb5ae5862d0"
      },
      "execution_count": 4,
      "outputs": [
        {
          "output_type": "display_data",
          "data": {
            "text/plain": [
              "<Figure size 1000x800 with 2 Axes>"
            ],
            "image/png": "[encoded data removed]"
          },
          "metadata": {}
        }
      ]
    },
    {
      "cell_type": "markdown",
      "source": [
        "The correlation matrix doesn't suggest any concerns about removing highly correlated features. However, there's noticeable correlation among features V1 to V18 compared to the rest. Now we can check to see if there is any correlation between the transaction amount and whether it was detected as fraudulent or not (we can train our model based on this). In order to visualize this relation, we can make a density graph to see if ther is a correlation between the two values.  "
      ],
      "metadata": {
        "id": "xPwRilvVURmJ"
      }
    },
    {
      "cell_type": "code",
      "source": [
        "import plotly.figure_factory as ff\n",
        "import plotly.io as pio\n",
        "\n",
        "# differentiate the two variables\n",
        "class_0 = main_df.loc[main_df['Amount'] == 0][\"Time\"]\n",
        "class_1 = main_df.loc[main_df['Amount'] == 1][\"Time\"]\n",
        "\n",
        "hist_data = [class_0, class_1]\n",
        "group_labels = ['Not Fraud', 'Fraud']\n",
        "\n",
        "# create and customize the plot\n",
        "fig = ff.create_distplot(hist_data, group_labels, show_hist=False, show_rug=False)\n",
        "fig.update_layout(title='Credit Card Transactions versus Time Line Graph', xaxis_title='Amount [$]')\n",
        "\n",
        "# display the plot\n",
        "pio.show(fig, filename='dist_only.html')"
      ],
      "metadata": {
        "colab": {
          "base_uri": "https://localhost:8080/",
          "height": 542
        },
        "id": "yRmmBA6zLzrg",
        "outputId": "d8a409c7-b3f3-4fb4-a8f5-305cc1a1a788"
      },
      "execution_count": 5,
      "outputs": [
        {
          "output_type": "display_data",
          "data": {
            "text/html": [
              "<html>\n",
              "<head><meta charset=\"utf-8\" /></head>\n",
              "<body>\n",
              "    <div>            <script src=\"https://cdnjs.cloudflare.com/ajax/libs/mathjax/2.7.5/MathJax.js?config=TeX-AMS-MML_SVG\"></script><script type=\"text/javascript\">if (window.MathJax && window.MathJax.Hub && window.MathJax.Hub.Config) {window.MathJax.Hub.Config({SVG: {font: \"STIX-Web\"}});}</script>                <script type=\"text/javascript\">window.PlotlyConfig = {MathJaxConfig: 'local'};</script>\n",
              "        <script charset=\"utf-8\" src=\"https://cdn.plot.ly/plotly-2.24.1.min.js\"></script>                <div id=\"6aca9eee-1f1f-4dd3-9af5-04fc598a5153\" class=\"plotly-graph-div\" style=\"height:525px; width:100%;\"></div>            <script type=\"text/javascript\">                                    window.PLOTLYENV=window.PLOTLYENV || {};                                    if (document.getElementById(\"6aca9eee-1f1f-4dd3-9af5-04fc598a5153\")) {                    Plotly.newPlot(                        \"6aca9eee-1f1f-4dd3-9af5-04fc598a5153\",                        [{\"legendgroup\":\"Not Fraud\",\"marker\":{\"color\":\"rgb(31, 119, 180)\"},\"mode\":\"lines\",\"name\":\"Not Fraud\",\"showlegend\":true,\"x\":[282.0,626.954,971.908,1316.862,1661.816,2006.77,2351.724,2696.678,3041.632,3386.586,3731.54,4076.494,4421.448,4766.402,5111.356,5456.31,5801.264,6146.218,6491.172,6836.126,7181.08,7526.034,7870.988,8215.942,8560.896,8905.85,9250.804,9595.758,9940.712,10285.666,10630.62,10975.574,11320.528,11665.482,12010.436,12355.39,12700.344,13045.298,13390.252,13735.206,14080.16,14425.114,14770.068,15115.022,15459.976,15804.93,16149.884,16494.838,16839.792,17184.746,17529.7,17874.654,18219.608,18564.562,18909.516,19254.47,19599.424,19944.378,20289.332,20634.286,20979.24,21324.194,21669.148,22014.102,22359.056,22704.01,23048.964,23393.918,23738.872,24083.826,24428.78,24773.734,25118.688,25463.642,25808.596,26153.55,26498.504,26843.458,27188.412,27533.366,27878.32,28223.274,28568.228,28913.182,29258.136,29603.09,29948.044,30292.998,30637.952,30982.906,31327.86,31672.814,32017.768,32362.722,32707.676,33052.63,33397.584,33742.538,34087.492,34432.446,34777.4,35122.354,35467.308,35812.262,36157.216,36502.17,36847.124,37192.078,37537.032,37881.986,38226.94,38571.894,38916.848,39261.802,39606.756,39951.71,40296.664,40641.618,40986.572,41331.526,41676.48,42021.434,42366.388,42711.342,43056.296,43401.25,43746.204,44091.158,44436.112,44781.066,45126.02,45470.974,45815.928,46160.882,46505.836,46850.79,47195.744,47540.698,47885.652,48230.606,48575.56,48920.514,49265.468,49610.422,49955.376,50300.33,50645.284,50990.238,51335.192,51680.146,52025.1,52370.054,52715.008,53059.962,53404.916,53749.87,54094.824,54439.778,54784.732,55129.686,55474.64,55819.594,56164.548,56509.502,56854.456,57199.41,57544.364,57889.318,58234.272,58579.226,58924.18,59269.134,59614.088,59959.042,60303.996,60648.95,60993.904,61338.858,61683.812,62028.766,62373.72,62718.674,63063.628,63408.582,63753.536,64098.49,64443.444,64788.398,65133.352,65478.306,65823.26,66168.214,66513.168,66858.122,67203.076,67548.03,67892.984,68237.938,68582.892,68927.846,69272.8,69617.754,69962.708,70307.662,70652.616,70997.57,71342.524,71687.478,72032.432,72377.386,72722.34,73067.294,73412.248,73757.202,74102.156,74447.11,74792.064,75137.018,75481.972,75826.926,76171.88,76516.834,76861.788,77206.742,77551.696,77896.65,78241.604,78586.558,78931.512,79276.466,79621.42,79966.374,80311.328,80656.282,81001.236,81346.19,81691.144,82036.098,82381.052,82726.006,83070.96,83415.914,83760.868,84105.822,84450.776,84795.73,85140.684,85485.638,85830.592,86175.546,86520.5,86865.454,87210.408,87555.362,87900.316,88245.27,88590.224,88935.178,89280.132,89625.086,89970.04,90314.994,90659.948,91004.902,91349.856,91694.81,92039.764,92384.718,92729.672,93074.626,93419.58,93764.534,94109.488,94454.442,94799.396,95144.35,95489.304,95834.258,96179.212,96524.166,96869.12,97214.074,97559.028,97903.982,98248.936,98593.89,98938.844,99283.798,99628.752,99973.706,100318.66,100663.614,101008.568,101353.522,101698.476,102043.43,102388.384,102733.338,103078.292,103423.246,103768.2,104113.154,104458.108,104803.062,105148.016,105492.97,105837.924,106182.878,106527.832,106872.786,107217.74,107562.694,107907.648,108252.602,108597.556,108942.51,109287.464,109632.418,109977.372,110322.326,110667.28,111012.234,111357.188,111702.142,112047.096,112392.05,112737.004,113081.958,113426.912,113771.866,114116.82,114461.774,114806.728,115151.682,115496.636,115841.59,116186.544,116531.498,116876.452,117221.406,117566.36,117911.314,118256.268,118601.222,118946.176,119291.13,119636.084,119981.038,120325.992,120670.946,121015.9,121360.854,121705.808,122050.762,122395.716,122740.67,123085.624,123430.578,123775.532,124120.486,124465.44,124810.394,125155.348,125500.302,125845.256,126190.21,126535.164,126880.118,127225.072,127570.026,127914.98,128259.934,128604.888,128949.842,129294.796,129639.75,129984.704,130329.658,130674.612,131019.566,131364.52,131709.474,132054.428,132399.382,132744.336,133089.29,133434.244,133779.198,134124.152,134469.106,134814.06,135159.014,135503.968,135848.922,136193.876,136538.83,136883.784,137228.738,137573.692,137918.646,138263.6,138608.554,138953.508,139298.462,139643.416,139988.37,140333.324,140678.278,141023.232,141368.186,141713.14,142058.094,142403.048,142748.002,143092.956,143437.91,143782.864,144127.818,144472.772,144817.726,145162.68,145507.634,145852.588,146197.542,146542.496,146887.45,147232.404,147577.358,147922.312,148267.266,148612.22,148957.174,149302.128,149647.082,149992.036,150336.99,150681.944,151026.898,151371.852,151716.806,152061.76,152406.714,152751.668,153096.622,153441.576,153786.53,154131.484,154476.438,154821.392,155166.346,155511.3,155856.254,156201.208,156546.162,156891.116,157236.07,157581.024,157925.978,158270.932,158615.886,158960.84,159305.794,159650.748,159995.702,160340.656,160685.61,161030.564,161375.518,161720.472,162065.426,162410.38,162755.334,163100.288,163445.242,163790.196,164135.15,164480.104,164825.058,165170.012,165514.966,165859.92,166204.874,166549.828,166894.782,167239.736,167584.69,167929.644,168274.598,168619.552,168964.506,169309.46,169654.414,169999.368,170344.322,170689.276,171034.23,171379.184,171724.138,172069.092,172414.046],\"xaxis\":\"x\",\"y\":[1.9953932707305997e-06,2.0363399526406004e-06,2.0767468748453918e-06,2.1165747233787077e-06,2.155787114344616e-06,2.1943508205614626e-06,2.2322359876473087e-06,2.2694163382107062e-06,2.305869362854583e-06,2.3415764967523914e-06,2.3765232806149288e-06,2.410699504932767e-06,2.444099336452535e-06,2.4767214259251997e-06,2.5085689962504543e-06,2.5396499102326293e-06,2.56997671726024e-06,2.59956667832233e-06,2.6284417688797458e-06,2.656628659218055e-06,2.6841586720203814e-06,2.7110677170117702e-06,2.7373962026426234e-06,2.7631889248950353e-06,2.788494933413053e-06,2.8133673752754208e-06,2.8378633168455548e-06,2.8620435442492452e-06,2.885972343144497e-06,2.9097172585591307e-06,2.933348835680845e-06,2.9569403425897726e-06,2.980567476025085e-06,3.004308051374589e-06,3.0282416781684366e-06,3.0524494224453827e-06,3.0770134574408632e-06,3.1020167041214977e-06,3.127542463158559e-06,3.1536740399942705e-06,3.1804943647082675e-06,3.208085608437208e-06,3.2365287981381137e-06,3.2659034315147934e-06,3.2962870939465976e-06,3.327755079269967e-06,3.360380016264332e-06,3.394231502686446e-06,3.4293757486791818e-06,3.4658752313537275e-06,3.503788362306753e-06,3.543169169787358e-06,3.584066997171732e-06,3.626526219337345e-06,3.6705859784527012e-06,3.716279940613875e-06,3.7636360746653775e-06,3.8126764544405968e-06,3.863417085546877e-06,3.9158677577024104e-06,3.970031923507506e-06,4.0259066044013925e-06,4.083482324419112e-06,4.142743072221223e-06,4.203666291723229e-06,4.266222901502306e-06,4.330377343007771e-06,4.3960876574482885e-06,4.46330559107569e-06,4.531976728431946e-06,4.602040652974831e-06,4.673431134348029e-06,4.746076341416806e-06,4.819899080048801e-06,4.8948170544841525e-06,4.970743151010291e-06,5.047585742534994e-06,5.125249012538046e-06,5.203633296777431e-06,5.282635441031954e-06,5.362149173077982e-06,5.442065487025868e-06,5.52227303808029e-06,5.602658545740656e-06,5.683107203421115e-06,5.763503092446793e-06,5.8437295983725374e-06,5.923669827572928e-06,6.003207022068495e-06,6.082224970581303e-06,6.160608413854014e-06,6.238243442320582e-06,6.3150178842804236e-06,6.390821682805898e-06,6.4655472596976136e-06,6.5390898649002125e-06,6.6113479098956795e-06,6.682223283705003e-06,6.75162165024965e-06,6.8194527259507505e-06,6.885630536575907e-06,6.950073652478985e-06,7.012705401517049e-06,7.073454059068797e-06,7.132253014720191e-06,7.189040915323216e-06,7.243761784273192e-06,7.29636511698645e-06,7.346805952693251e-06,7.395044922789631e-06,7.4410482761146e-06,7.484787881636725e-06,7.526241209143747e-06,7.565391288631824e-06,7.602226649184874e-06,7.636741238220859e-06,7.668934322058057e-06,7.698810368822158e-06,7.726378914772841e-06,7.751654415176577e-06,7.774656080891897e-06,7.795407701861677e-06,7.813937458727697e-06,7.830277723793232e-06,7.844464852561247e-06,7.856538967070607e-06,7.866543732237109e-06,7.874526126386296e-06,7.880536207135794e-06,7.884626873750947e-06,7.886853627058185e-06,7.887274327954873e-06,7.885948955506966e-06,7.882939365572324e-06,7.878309050833602e-06,7.872122903066195e-06,7.864446978409856e-06,7.85534826635119e-06,7.844894463066265e-06,7.833153749711904e-06,7.820194576196589e-06,7.806085450903812e-06,7.790894736785863e-06,7.774690454191927e-06,7.757540090743828e-06,7.73951041852379e-06,7.720667318793144e-06,7.701075614418833e-06,7.680798910144402e-06,7.65989944080647e-06,7.63843792756459e-06,7.616473442182536e-06,7.59406327937265e-06,7.571262837191087e-06,7.548125505451176e-06,7.524702562104761e-06,7.501043077525332e-06,7.477193826614973e-06,7.45319920864584e-06,7.429101174739275e-06,7.404939162878071e-06,7.380750040343851e-06,7.356568053466815e-06,7.332424784573736e-06,7.308349116018845e-06,7.284367201181838e-06,7.260502442318285e-06,7.236775475148107e-06,7.213204160070478e-06,7.189803579894391e-06,7.166586043976923e-06,7.143561098663239e-06,7.12073554392461e-06,7.0981134560930885e-06,7.075696216593284e-06,7.053482546573694e-06,7.031468547341596e-06,7.009647746506755e-06,6.988011149739959e-06,6.966547298053718e-06,6.945242330510899e-06,6.924080052268661e-06,6.903042007862524e-06,6.882107559634926e-06,6.861253971209967e-06,6.8404564959136405e-06,6.819688470035413e-06,6.798921410822714e-06,6.778125119095461e-06,6.757267786361465e-06,6.736316106307816e-06,6.715235390535336e-06,6.6939896883956665e-06,6.672541910780816e-06,6.65085395770535e-06,6.628886849510737e-06,6.6066008615088364e-06,6.583955661869737e-06,6.560910452545183e-06,6.53742411300456e-06,6.51345534654544e-06,6.488962828925637e-06,6.4639053590465204e-06,6.438242011401842e-06,6.4119322899885214e-06,6.3849362833597265e-06,6.357214820482535e-06,6.328729627046337e-06,6.299443481851234e-06,6.269320372889493e-06,6.238325652718263e-06,6.206426192706559e-06,6.173590535726981e-06,6.139789046849995e-06,6.104994061588256e-06,6.0691800312296894e-06,6.032323664790895e-06,5.994404067117778e-06,5.9554028726572036e-06,5.915304374423432e-06,5.874095647684994e-06,5.8317666679026365e-06,5.788310422455858e-06,5.743723015706221e-06,5.698003766957881e-06,5.651155300891868e-06,5.603183630068601e-06,5.554098229114574e-06,5.503912100232269e-06,5.452641829698897e-06,5.400307635047871e-06,5.346933402657927e-06,5.292546715506684e-06,5.2371788708812796e-06,5.180864887873351e-06,5.123643504524213e-06,5.065557164523622e-06,5.0066519934052634e-06,4.946977764221513e-06,4.886587852719549e-06,4.8255391820809965e-06,4.763892157325864e-06,4.70171058952053e-06,4.6390616099657736e-06,4.576015574578086e-06,4.512645958710348e-06,4.4490292426913145e-06,4.385244788392955e-06,4.321374707162613e-06,4.2575037194821125e-06,4.1937190067388566e-06,4.130110055512809e-06,4.066768494801064e-06,4.003787926614404e-06,3.941263750391669e-06,3.879292981685427e-06,3.817974065576803e-06,3.7574066852798154e-06,3.697691566394424e-06,3.6389302772643226e-06,3.581225025889763e-06,3.5246784538378553e-06,3.4693934275831442e-06,3.4154728276998364e-06,3.363019336314476e-06,3.3121352232143027e-06,3.26292213099231e-06,3.215480859595271e-06,3.1699111506266967e-06,3.1263114717424733e-06,3.084778801463352e-06,3.045408414716306e-06,3.008293669405496e-06,2.9735257943042663e-06,2.9411936785520555e-06,2.911383663034615e-06,2.884179333922929e-06,2.859661318645464e-06,2.8379070845704503e-06,2.818990740679381e-06,2.802982842520271e-06,2.7899502007389826e-06,2.7799556934996204e-06,2.773058083119637e-06,2.7693118372627593e-06,2.768766955051764e-06,2.7714687984843e-06,2.7774579295573285e-06,2.7867699535291693e-06,2.7994353687724816e-06,2.815479423695685e-06,2.8349219812349625e-06,2.857777391442135e-06,2.8840543727162677e-06,2.9137559022475283e-06,2.9468791162602324e-06,2.983415220657533e-06,3.023349412682961e-06,3.0666608142224984e-06,3.1133224173753663e-06,3.1633010429216604e-06,3.216557312309453e-06,3.2730456337735296e-06,3.3327142031812606e-06,3.395505020178607e-06,3.4613539201805143e-06,3.5301906227145982e-06,3.6019387965853196e-06,3.676516142277706e-06,3.7538344919644557e-06,3.833799927419685e-06,3.916312916074413e-06,4.001268465376478e-06,4.088556295537475e-06,4.178061030666297e-06,4.269662408198893e-06,4.3632355064413404e-06,4.458650989946258e-06,4.555775372342692e-06,4.654471296137512e-06,4.754597828902811e-06,4.856010775159185e-06,4.958563003160284e-06,5.062104785680592e-06,5.166484153806367e-06,5.271547262630829e-06,5.377138767658356e-06,5.483102210631551e-06,5.589280413408366e-06,5.6955158784368955e-06,5.801651194301286e-06,5.907529444747514e-06,6.01299461953897e-06,6.117892025445039e-06,6.222068695625742e-06,6.325373795647535e-06,6.427659024347127e-06,6.528779007753598e-06,6.628591684282776e-06,6.726958679434848e-06,6.823745668252708e-06,6.9188227238390176e-06,7.012064650280599e-06,7.103351298391339e-06,7.19256786275952e-06,7.279605158669482e-06,7.364359877564101e-06,7.446734819818887e-06,7.526639103714525e-06,7.603988349617137e-06,7.678704838507506e-06,7.750717644138333e-06,7.819962738243196e-06,7.88638306836994e-06,7.94992860806428e-06,8.010556379286075e-06,8.06823044709748e-06,8.122921886821208e-06,8.174608724023997e-06,8.223275847836627e-06,8.268914898273558e-06,8.311524128363953e-06,8.3511082420486e-06,8.38767820893335e-06,8.42125105711775e-06,8.451849645438801e-06,8.479502416578223e-06,8.504243132583382e-06,8.52611059443877e-06,8.545148347403384e-06,8.561404373891896e-06,8.574930775729787e-06,8.585783447649942e-06,8.594021743922148e-06,8.599708140017923e-06,8.602907891209584e-06,8.603688689984893e-06,8.60212032412989e-06,8.598274337287225e-06,8.592223693743489e-06,8.584042449129165e-06,8.573805428638014e-06,8.56158791428094e-06,8.547465342592469e-06,8.53151301409837e-06,8.513805815739276e-06,8.494417957322359e-06,8.473422722946797e-06,8.450892238216997e-06,8.426897253924529e-06,8.401506946742254e-06,8.374788737339913e-06,8.34680812619349e-06,8.317628547227695e-06,8.287311239300492e-06,8.25591513541235e-06,8.223496769401567e-06,8.190110199772582e-06,8.155806950196043e-06,8.120635966120012e-06,8.084643586839943e-06,8.04787353229336e-06,8.010366903772678e-06,7.972162197687308e-06,7.93329533145475e-06,7.893799680558131e-06,7.853706125778183e-06,7.813043109586265e-06,7.771836700676319e-06,7.730110665612674e-06,7.687886546582448e-06,7.64518374425845e-06,7.602019604808555e-06,7.558409510122413e-06,7.51436697037043e-06,7.4699037180601465e-06,7.425029802811263e-06,7.379753686131781e-06,7.33408233554293e-06,7.288021317469321e-06,7.241574888381591e-06,7.194746083751636e-06,7.14753680445309e-06,7.09994790031322e-06,7.051979250593794e-06,7.003629841248783e-06,6.9548978388737315e-06,6.90578066132634e-06,6.8562750450576236e-06,6.806377109248981e-06,6.756082416901152e-06,6.70538603306704e-06,6.654282580459487e-06,6.602766292699343e-06,6.550831065496588e-06,6.4984705060788995e-06,6.445677981196443e-06,6.392446664041128e-06,6.338769580420414e-06,6.284639654522696e-06,6.230049754601512e-06,6.174992738891394e-06,6.119461502047582e-06,6.063449022377542e-06,6.006948410102531e-06,5.949952956854318e-06,5.892456186576125e-06,5.834451907956598e-06,5.775934268484432e-06,5.716897810167379e-06,5.657337526914361e-06,5.59724892353402e-06,5.536628076257231e-06,5.475471694645565e-06,5.413777184703385e-06,5.3515427129683e-06,5.28876727131332e-06,5.225450742155481e-06,5.161593963729674e-06,5.0971987950537265e-06,5.032268180181146e-06,4.966806211313208e-06,4.90081819032012e-06,4.834310688204584e-06,4.7672916020286135e-06,4.6997702088169e-06,4.63175721594721e-06,4.5632648075404484e-06,4.494306686370135e-06,4.424898110822874e-06,4.355055926458063e-06,4.284798591736558e-06,4.21414619751383e-06,4.143120479923648e-06,4.071744826312285e-06,4.0000442739218656e-06,3.928045501062871e-06,3.8557768105608315e-06,3.7832681053100133e-06,3.710550855817062e-06,3.6376580596695735e-06,3.5646241929186604e-06,3.4914851534191604e-06,3.4182781962269333e-06,3.3450418612085296e-06,3.2718158930737915e-06,3.198641154097079e-06,3.1255595298461963e-06,3.052613828290098e-06,2.9798476727062353e-06,2.9073053888557122e-06,2.8350318869386114e-06,2.763072538882899e-06,2.6914730515574452e-06,2.6202793365327644e-06,2.549537377042196e-06,2.479293092819931e-06,2.4095922035121313e-06,2.3404800913714233e-06,2.2720016639543544e-06],\"yaxis\":\"y\",\"type\":\"scatter\"},{\"legendgroup\":\"Fraud\",\"marker\":{\"color\":\"rgb(255, 127, 14)\"},\"mode\":\"lines\",\"name\":\"Fraud\",\"showlegend\":true,\"x\":[73.0,418.382,763.764,1109.146,1454.528,1799.91,2145.292,2490.674,2836.056,3181.438,3526.82,3872.202,4217.584,4562.966,4908.348,5253.73,5599.112,5944.494,6289.876,6635.258,6980.64,7326.022,7671.404,8016.786,8362.168,8707.55,9052.932,9398.314,9743.696,10089.078,10434.46,10779.842,11125.224,11470.606,11815.988,12161.37,12506.752,12852.134,13197.516,13542.898,13888.28,14233.662,14579.044,14924.426,15269.808,15615.19,15960.572,16305.954,16651.336,16996.718,17342.1,17687.482,18032.864,18378.246,18723.628,19069.01,19414.392,19759.774,20105.156,20450.538,20795.92,21141.302,21486.684,21832.066,22177.448,22522.83,22868.212,23213.594,23558.976,23904.358,24249.74,24595.122,24940.504,25285.886,25631.268,25976.65,26322.032,26667.414,27012.796,27358.178,27703.56,28048.942,28394.324,28739.706,29085.088,29430.47,29775.852,30121.234,30466.616,30811.998,31157.38,31502.762,31848.144,32193.526,32538.908,32884.29,33229.672,33575.054,33920.436,34265.818,34611.2,34956.582,35301.964,35647.346,35992.728,36338.11,36683.492,37028.874,37374.256,37719.638,38065.02,38410.402,38755.784,39101.166,39446.548,39791.93,40137.312,40482.694,40828.076,41173.458,41518.84,41864.222,42209.604,42554.986,42900.368,43245.75,43591.132,43936.514,44281.896,44627.278,44972.66,45318.042,45663.424,46008.806,46354.188,46699.57,47044.952,47390.334,47735.716,48081.098,48426.48,48771.862,49117.244,49462.626,49808.008,50153.39,50498.772,50844.154,51189.536,51534.918,51880.3,52225.682,52571.064,52916.446,53261.828,53607.21,53952.592,54297.974,54643.356,54988.738,55334.12,55679.502,56024.884,56370.266,56715.648,57061.03,57406.412,57751.794,58097.176,58442.558,58787.94,59133.322,59478.704,59824.086,60169.468,60514.85,60860.232,61205.614,61550.996,61896.378,62241.76,62587.142,62932.524,63277.906,63623.288,63968.67,64314.052,64659.434,65004.816,65350.198,65695.58,66040.962,66386.344,66731.726,67077.108,67422.49,67767.872,68113.254,68458.636,68804.018,69149.4,69494.782,69840.164,70185.546,70530.928,70876.31,71221.692,71567.074,71912.456,72257.838,72603.22,72948.602,73293.984,73639.366,73984.748,74330.13,74675.512,75020.894,75366.276,75711.658,76057.04,76402.422,76747.804,77093.186,77438.568,77783.95,78129.332,78474.714,78820.096,79165.478,79510.86,79856.242,80201.624,80547.006,80892.388,81237.77,81583.152,81928.534,82273.916,82619.298,82964.68,83310.062,83655.444,84000.826,84346.208,84691.59,85036.972,85382.354,85727.736,86073.118,86418.5,86763.882,87109.264,87454.646,87800.028,88145.41,88490.792,88836.174,89181.556,89526.938,89872.32,90217.702,90563.084,90908.466,91253.848,91599.23,91944.612,92289.994,92635.376,92980.758,93326.14,93671.522,94016.904,94362.286,94707.668,95053.05,95398.432,95743.814,96089.196,96434.578,96779.96,97125.342,97470.724,97816.106,98161.488,98506.87,98852.252,99197.634,99543.016,99888.398,100233.78,100579.162,100924.544,101269.926,101615.308,101960.69,102306.072,102651.454,102996.836,103342.218,103687.6,104032.982,104378.364,104723.746,105069.128,105414.51,105759.892,106105.274,106450.656,106796.038,107141.42,107486.802,107832.184,108177.566,108522.948,108868.33,109213.712,109559.094,109904.476,110249.858,110595.24,110940.622,111286.004,111631.386,111976.768,112322.15,112667.532,113012.914,113358.296,113703.678,114049.06,114394.442,114739.824,115085.206,115430.588,115775.97,116121.352,116466.734,116812.116,117157.498,117502.88,117848.262,118193.644,118539.026,118884.408,119229.79,119575.172,119920.554,120265.936,120611.318,120956.7,121302.082,121647.464,121992.846,122338.228,122683.61,123028.992,123374.374,123719.756,124065.138,124410.52,124755.902,125101.284,125446.666,125792.048,126137.43,126482.812,126828.194,127173.576,127518.958,127864.34,128209.722,128555.104,128900.486,129245.868,129591.25,129936.632,130282.014,130627.396,130972.778,131318.16,131663.542,132008.924,132354.306,132699.688,133045.07,133390.452,133735.834,134081.216,134426.598,134771.98,135117.362,135462.744,135808.126,136153.508,136498.89,136844.272,137189.654,137535.036,137880.418,138225.8,138571.182,138916.564,139261.946,139607.328,139952.71,140298.092,140643.474,140988.856,141334.238,141679.62,142025.002,142370.384,142715.766,143061.148,143406.53,143751.912,144097.294,144442.676,144788.058,145133.44,145478.822,145824.204,146169.586,146514.968,146860.35,147205.732,147551.114,147896.496,148241.878,148587.26,148932.642,149278.024,149623.406,149968.788,150314.17,150659.552,151004.934,151350.316,151695.698,152041.08,152386.462,152731.844,153077.226,153422.608,153767.99,154113.372,154458.754,154804.136,155149.518,155494.9,155840.282,156185.664,156531.046,156876.428,157221.81,157567.192,157912.574,158257.956,158603.338,158948.72,159294.102,159639.484,159984.866,160330.248,160675.63,161021.012,161366.394,161711.776,162057.158,162402.54,162747.922,163093.304,163438.686,163784.068,164129.45,164474.832,164820.214,165165.596,165510.978,165856.36,166201.742,166547.124,166892.506,167237.888,167583.27,167928.652,168274.034,168619.416,168964.798,169310.18,169655.562,170000.944,170346.326,170691.708,171037.09,171382.472,171727.854,172073.236,172418.618],\"xaxis\":\"x\",\"y\":[2.2872192219979882e-06,2.330492096933531e-06,2.3690562710639876e-06,2.402685746002892e-06,2.43119001128008e-06,2.45441634000335e-06,2.472251638645531e-06,2.484623821377227e-06,2.4915026876291133e-06,2.4929002902881054e-06,2.488870790910221e-06,2.479509807365991e-06,2.464953268217304e-06,2.445375796655877e-06,2.4209886548230813e-06,2.3920372866025636e-06,2.3587985033760864e-06,2.3215773626261185e-06,2.280703793552753e-06,2.2365290269709464e-06,2.189421888624166e-06,2.139765015678458e-06,2.087951055566291e-06,2.0343789045798873e-06,1.979450040746121e-06,1.923565001648326e-06,1.8671200531187406e-06,1.8105040892453473e-06,1.7540957980712095e-06,1.6982611208729307e-06,1.6433510261500456e-06,1.5896996126009458e-06,1.5376225485612779e-06,1.4874158487841056e-06,1.4393549831832734e-06,1.3936943063621263e-06,1.350666791510725e-06,1.3104840476595139e-06,1.2733365953879242e-06,1.239394372945787e-06,1.2088074423745974e-06,1.1817068636187113e-06,1.1582057037763404e-06,1.1384001485267275e-06,1.1223706833358046e-06,1.1101833132302194e-06,1.101890791671689e-06,1.0975338312838163e-06,1.097142271803286e-06,1.1007361835631962e-06,1.108326887986198e-06,1.1199178798870894e-06,1.1355056397812278e-06,1.155080327792995e-06,1.1786263540900029e-06,1.2061228239738724e-06,1.2375438587834105e-06,1.2728587965658294e-06,1.3120322790093243e-06,1.3550242333758364e-06,1.401789760105118e-06,1.4522789383657631e-06,1.5064365630987885e-06,1.5642018280333287e-06,1.6255079697577054e-06,1.690281888212142e-06,1.758443758947697e-06,1.8299066521865955e-06,1.904576173147034e-06,1.9823501372821307e-06,2.0631182930594668e-06,2.1467621036985017e-06,2.233154597923136e-06,2.3221602983015367e-06,2.4136352341697274e-06,2.507427044496183e-06,2.603375174375183e-06,2.70131116716074e-06,2.8010590526025317e-06,2.9024358297405937e-06,3.005252041783727e-06,3.109312438754177e-06,3.214416722348512e-06,3.320360366256173e-06,3.426935504102067e-06,3.5339318762516215e-06,3.6411378259358105e-06,3.7483413345284685e-06,3.855331085333043e-06,3.961897544914803e-06,4.067834050835968e-06,4.17293789461505e-06,4.277011388825116e-06,4.379862907462975e-06,4.481307889049738e-06,4.581169792356849e-06,4.67928099517425e-06,4.775483627149594e-06,4.869630328406907e-06,4.961584926407943e-06,5.05122302432902e-06,5.13843249509571e-06,5.223113876136157e-06,5.3051806608825645e-06,5.384559484063085e-06,5.461190198884233e-06,5.5350258453003985e-06,5.60603250970534e-06,5.674189077548569e-06,5.7394868815798805e-06,5.8019292496448995e-06,5.8615309571858484e-06,5.9183175908340685e-06,5.97232483069318e-06,6.023597660096344e-06,6.072189512744113e-06,6.11816136818179e-06,6.161580807519866e-06,6.2025210421208456e-06,6.241059928638184e-06,6.277278984274796e-06,6.311262416403676e-06,6.343096180737837e-06,6.372867082036331e-06,6.4006619308658855e-06,6.426566769203276e-06,6.450666176652779e-06,6.473042667774037e-06,6.4937761894818714e-06,6.512943725706121e-06,6.5306190145239995e-06,6.546872380823473e-06,6.561770685280086e-06,6.575377388068327e-06,6.587752723344868e-06,6.598953978188947e-06,6.609035867422076e-06,6.61805099362279e-06,6.626050379750224e-06,6.633084060158335e-06,6.639201714461816e-06,6.644453327754761e-06,6.648889860112685e-06,6.6525639081563364e-06,6.655530341733705e-06,6.657846899484041e-06,6.659574728180958e-06,6.660778852279753e-06,6.661528561992025e-06,6.661897710423524e-06,6.6619649127953035e-06,6.6618136434462305e-06,6.6615322291307755e-06,6.661213739990338e-06,6.660955782419136e-06,6.660860200784462e-06,6.6610326975149424e-06,6.6615823833665374e-06,6.662621271644803e-06,6.664263731738729e-06,6.666625918454466e-06,6.669825194283957e-06,6.673979561873535e-06,6.679207123549355e-06,6.685625583815554e-06,6.693351809263058e-06,6.702501458349503e-06,6.713188691062559e-06,6.725525965615644e-06,6.739623926103585e-06,6.755591381550462e-06,6.773535373086201e-06,6.793561322190103e-06,6.815773249138842e-06,6.840274047088932e-06,6.867165793726131e-06,6.896550079217688e-06,6.92852832642603e-06,6.963202077067712e-06,7.000673215831077e-06,7.041044103476006e-06,7.0844175896976515e-06,7.1308968770979214e-06,7.180585209015085e-06,7.233585356225685e-06,7.289998880658231e-06,7.349925158220275e-06,7.413460147595745e-06,7.480694897350847e-06,7.551713789803873e-06,7.626592526756912e-06,7.705395869226903e-06,7.78817515059581e-06,7.874965589964632e-06,7.96578343976648e-06,8.060623008683357e-06,8.159453607433263e-06,8.262216470861042e-06,8.368821714795418e-06,8.479145390157488e-06,8.59302669966821e-06,8.710265444071357e-06,8.830619764960598e-06,8.953804249997483e-06,9.079488463489565e-06,9.207295960965354e-06,9.336803840559623e-06,9.467542876794556e-06,9.598998273808767e-06,9.730611065405915e-06,9.861780178645799e-06,9.99186516629436e-06,1.0120189601535013e-05,1.0246045116159369e-05,1.0368696051294828e-05,1.0487384677847703e-05,1.0601336932522034e-05,1.0709768604786303e-05,1.0811891900741188e-05,1.0906922301714732e-05,1.0994085628779651e-05,1.107262521938952e-05,1.114180911909931e-05,1.1200937189936252e-05,1.1249348037441462e-05,1.1286425660709257e-05,1.131160573382903e-05,1.1324381432891806e-05,1.1324308730012404e-05,1.1311011084457451e-05,1.1284183470762375e-05,1.1243595694431898e-05,1.1189094957204123e-05,1.1120607645678407e-05,1.1038140329092972e-05,1.0941779963962205e-05,1.0831693314893478e-05,1.0708125611998482e-05,1.0571398475692188e-05,1.0421907149166883e-05,1.0260117087309468e-05,1.0086559958180755e-05,9.901829119324103e-06,9.706574636083627e-06,9.501497912752594e-06,9.287346009780973e-06,9.064905721464435e-06,8.834997488582478e-06,8.598469219430117e-06,8.35619009067861e-06,8.10904439661063e-06,7.857925511605325e-06,7.603730026407598e-06,7.3473521138102755e-06,7.089678174007627e-06,6.831581804143211e-06,6.573919130564181e-06,6.3175245360910596e-06,6.0632068082883105e-06,5.811745728350851e-06,5.563889113856732e-06,5.320350322338849e-06,5.081806216443196e-06,4.8488955854175574e-06,4.622218011855283e-06,4.4023331670487865e-06,4.189760513031792e-06,3.984979384453359e-06,3.7884294188750738e-06,3.6005112999735116e-06,3.421587774503928e-06,3.2519849007999153e-06,3.091993484096701e-06,2.941870652124704e-06,2.8018415232772593e-06,2.6721009192544884e-06,2.552815074464786e-06,2.444123295655351e-06,2.3461395272651897e-06,2.2589537808507535e-06,2.182633390624554e-06,2.117224061639766e-06,2.062750682413276e-06,2.0192178797432513e-06,1.9866103000665343e-06,1.9648926088205076e-06,1.954009206805307e-06,1.9538836703559676e-06,1.964417930079596e-06,1.9854912108325355e-06,2.016958763333729e-06,2.0586504251587894e-06,2.1103690556531973e-06,2.1718888953662723e-06,2.2429539057690178e-06,2.323276149115926e-06,2.4125342712024905e-06,2.5103721513269022e-06,2.6163977838932735e-06,2.730182454716907e-06,2.851260272177432e-06,2.9791281089072027e-06,3.1132460037335896e-06,3.2530380661923267e-06,3.397893917199358e-06,3.5471706895679707e-06,3.700195601164173e-06,3.856269101828761e-06,4.014668583002068e-06,4.1746526265369e-06,4.3354657567608144e-06,4.496343647746162e-06,4.656518726262506e-06,4.815226100310702e-06,4.9717097337508064e-06,5.125228779591115e-06,5.275063978227907e-06,5.420524022508362e-06,5.5609517890739546e-06,5.695730335133085e-06,5.8242885616534256e-06,5.946106447951663e-06,6.060719768731771e-06,6.167724212663502e-06,6.266778831438995e-06,6.357608759678304e-06,6.440007158825522e-06,6.513836351981904e-06,6.579028131158258e-06,6.635583233343048e-06,6.683569996737272e-06,6.723122223150281e-06,6.754436286550326e-06,6.777767540789942e-06,6.793426091306321e-06,6.801772005856097e-06,6.803210047885998e-06,6.798184022788038e-06,6.787170831933724e-06,6.7706743319627245e-06,6.749219097306932e-06,6.723344182417021e-06,6.693596976708413e-06,6.660527240013073e-06,6.6246813994852375e-06,6.586597180689868e-06,6.546798636239544e-06,6.505791625112651e-06,6.464059784949248e-06,6.422061028467676e-06,6.380224583948758e-06,6.338948588750869e-06,6.2985982343054844e-06,6.259504451202209e-06,6.221963114010441e-06,6.186234737547112e-06,6.152544629512206e-06,6.12108345886241e-06,6.092008195021462e-06,6.065443370047142e-06,6.04148261416747e-06,6.020190414605734e-06,6.00160404825786e-06,5.985735640457011e-06,5.972574304636744e-06,5.962088321050849e-06,5.954227316669171e-06,5.948924412801627e-06,5.946098311747252e-06,5.945655298679509e-06,5.947491139915691e-06,5.951492863557638e-06,5.9575404131050085e-06,5.965508168943722e-06,5.975266336507197e-06,5.9866822033384554e-06,5.99962127019596e-06,6.013948263719475e-06,6.029528039987257e-06,6.04622638956276e-06,6.063910755361776e-06,6.082450874901908e-06,6.101719358269514e-06,6.121592212509448e-06,6.141949322158073e-06,6.162674894380274e-06,6.183657875691029e-06,6.2047923456146765e-06,6.225977890929417e-06,6.2471199624246855e-06,6.26813021442802e-06,6.288926825791688e-06,6.309434799621375e-06,6.329586237821328e-06,6.349320585560249e-06,6.368584840057279e-06,6.3873337176694e-06,6.4055297731337315e-06,6.4231434649958e-06,6.440153161712477e-06,6.456545083655285e-06,6.4723131772256095e-06,6.487458918495996e-06,6.501991045173299e-06,6.515925217202471e-06,6.529283607933692e-06,6.542094429422131e-06,6.554391397054799e-06,6.566213140253552e-06,6.577602567431057e-06,6.588606194629791e-06,6.59927344829836e-06,6.60965595341982e-06,6.619806818664806e-06,6.6297799303648386e-06,6.639629266883847e-06,6.649408244380819e-06,6.6591691040263184e-06,6.668962349456794e-06,6.67883624166129e-06,6.688836356620576e-06,6.699005208918163e-06,6.709381942258288e-06,6.7200020854385054e-06,6.730897369894226e-06,6.742095602544933e-06,6.753620585403703e-06,6.765492071347739e-06,6.777725743664944e-06,6.790333205568246e-06,6.803321964872786e-06,6.816695398520521e-06,6.830452681658957e-06,6.84458866657028e-06,6.8590936979181604e-06,6.873953352533748e-06,6.88914809428048e-06,6.904652837378706e-06,6.920436414884072e-06,6.936460952716005e-06,6.952681153640087e-06,6.969043499809441e-06,6.985485386745701e-06,7.001934205868993e-06,7.01830639672354e-06,7.034506493767201e-06,7.0504261958579145e-06,7.065943489254429e-06,7.080921856939486e-06,7.095209608262679e-06,7.108639363214972e-06,7.121027725018685e-06,7.132175173115667e-06,7.14186620605262e-06,7.149869760213796e-06,7.155939925890697e-06,7.15981697687889e-06,7.161228723759009e-06,7.159892194383065e-06,7.155515637995069e-06,7.147800842040131e-06,7.136445743235492e-06,7.121147307085252e-06,7.1016046429077834e-06,7.07752231480468e-06,7.048613803013731e-06,7.0146050649227055e-06,6.9752381408335605e-06,6.930274746473323e-06,6.879499792358967e-06,6.822724769500174e-06,6.759790941608698e-06,6.690572285970262e-06,6.614978128403293e-06,6.532955422203433e-06,6.4444906265633146e-06,6.3496111465351035e-06,6.248386304020507e-06,6.140927817354449e-06,6.027389775615081e-06,5.907968102632738e-06,5.782899514600054e-06,5.652459983983619e-06,5.51696273092364e-06,5.3767557712875445e-06,5.232219057854979e-06,5.083761257599719e-06,4.931816213582829e-06,4.7768391444727615e-06,4.619302638100288e-06,4.459692497692498e-06,4.298503500498761e-06,4.136235128441398e-06,3.97338732923225e-06,3.8104563641655317e-06,3.647930795610148e-06,3.486287663191858e-06,3.325988892896707e-06,3.1674779779721094e-06,3.0111769646926446e-06],\"yaxis\":\"y\",\"type\":\"scatter\"}],                        {\"barmode\":\"overlay\",\"hovermode\":\"closest\",\"legend\":{\"traceorder\":\"reversed\"},\"xaxis\":{\"anchor\":\"y2\",\"domain\":[0.0,1.0],\"zeroline\":false,\"title\":{\"text\":\"Amount [$]\"}},\"yaxis\":{\"anchor\":\"free\",\"domain\":[0.0,1],\"position\":0.0},\"template\":{\"data\":{\"histogram2dcontour\":[{\"type\":\"histogram2dcontour\",\"colorbar\":{\"outlinewidth\":0,\"ticks\":\"\"},\"colorscale\":[[0.0,\"#0d0887\"],[0.1111111111111111,\"#46039f\"],[0.2222222222222222,\"#7201a8\"],[0.3333333333333333,\"#9c179e\"],[0.4444444444444444,\"#bd3786\"],[0.5555555555555556,\"#d8576b\"],[0.6666666666666666,\"#ed7953\"],[0.7777777777777778,\"#fb9f3a\"],[0.8888888888888888,\"#fdca26\"],[1.0,\"#f0f921\"]]}],\"choropleth\":[{\"type\":\"choropleth\",\"colorbar\":{\"outlinewidth\":0,\"ticks\":\"\"}}],\"histogram2d\":[{\"type\":\"histogram2d\",\"colorbar\":{\"outlinewidth\":0,\"ticks\":\"\"},\"colorscale\":[[0.0,\"#0d0887\"],[0.1111111111111111,\"#46039f\"],[0.2222222222222222,\"#7201a8\"],[0.3333333333333333,\"#9c179e\"],[0.4444444444444444,\"#bd3786\"],[0.5555555555555556,\"#d8576b\"],[0.6666666666666666,\"#ed7953\"],[0.7777777777777778,\"#fb9f3a\"],[0.8888888888888888,\"#fdca26\"],[1.0,\"#f0f921\"]]}],\"heatmap\":[{\"type\":\"heatmap\",\"colorbar\":{\"outlinewidth\":0,\"ticks\":\"\"},\"colorscale\":[[0.0,\"#0d0887\"],[0.1111111111111111,\"#46039f\"],[0.2222222222222222,\"#7201a8\"],[0.3333333333333333,\"#9c179e\"],[0.4444444444444444,\"#bd3786\"],[0.5555555555555556,\"#d8576b\"],[0.6666666666666666,\"#ed7953\"],[0.7777777777777778,\"#fb9f3a\"],[0.8888888888888888,\"#fdca26\"],[1.0,\"#f0f921\"]]}],\"heatmapgl\":[{\"type\":\"heatmapgl\",\"colorbar\":{\"outlinewidth\":0,\"ticks\":\"\"},\"colorscale\":[[0.0,\"#0d0887\"],[0.1111111111111111,\"#46039f\"],[0.2222222222222222,\"#7201a8\"],[0.3333333333333333,\"#9c179e\"],[0.4444444444444444,\"#bd3786\"],[0.5555555555555556,\"#d8576b\"],[0.6666666666666666,\"#ed7953\"],[0.7777777777777778,\"#fb9f3a\"],[0.8888888888888888,\"#fdca26\"],[1.0,\"#f0f921\"]]}],\"contourcarpet\":[{\"type\":\"contourcarpet\",\"colorbar\":{\"outlinewidth\":0,\"ticks\":\"\"}}],\"contour\":[{\"type\":\"contour\",\"colorbar\":{\"outlinewidth\":0,\"ticks\":\"\"},\"colorscale\":[[0.0,\"#0d0887\"],[0.1111111111111111,\"#46039f\"],[0.2222222222222222,\"#7201a8\"],[0.3333333333333333,\"#9c179e\"],[0.4444444444444444,\"#bd3786\"],[0.5555555555555556,\"#d8576b\"],[0.6666666666666666,\"#ed7953\"],[0.7777777777777778,\"#fb9f3a\"],[0.8888888888888888,\"#fdca26\"],[1.0,\"#f0f921\"]]}],\"surface\":[{\"type\":\"surface\",\"colorbar\":{\"outlinewidth\":0,\"ticks\":\"\"},\"colorscale\":[[0.0,\"#0d0887\"],[0.1111111111111111,\"#46039f\"],[0.2222222222222222,\"#7201a8\"],[0.3333333333333333,\"#9c179e\"],[0.4444444444444444,\"#bd3786\"],[0.5555555555555556,\"#d8576b\"],[0.6666666666666666,\"#ed7953\"],[0.7777777777777778,\"#fb9f3a\"],[0.8888888888888888,\"#fdca26\"],[1.0,\"#f0f921\"]]}],\"mesh3d\":[{\"type\":\"mesh3d\",\"colorbar\":{\"outlinewidth\":0,\"ticks\":\"\"}}],\"scatter\":[{\"fillpattern\":{\"fillmode\":\"overlay\",\"size\":10,\"solidity\":0.2},\"type\":\"scatter\"}],\"parcoords\":[{\"type\":\"parcoords\",\"line\":{\"colorbar\":{\"outlinewidth\":0,\"ticks\":\"\"}}}],\"scatterpolargl\":[{\"type\":\"scatterpolargl\",\"marker\":{\"colorbar\":{\"outlinewidth\":0,\"ticks\":\"\"}}}],\"bar\":[{\"error_x\":{\"color\":\"#2a3f5f\"},\"error_y\":{\"color\":\"#2a3f5f\"},\"marker\":{\"line\":{\"color\":\"#E5ECF6\",\"width\":0.5},\"pattern\":{\"fillmode\":\"overlay\",\"size\":10,\"solidity\":0.2}},\"type\":\"bar\"}],\"scattergeo\":[{\"type\":\"scattergeo\",\"marker\":{\"colorbar\":{\"outlinewidth\":0,\"ticks\":\"\"}}}],\"scatterpolar\":[{\"type\":\"scatterpolar\",\"marker\":{\"colorbar\":{\"outlinewidth\":0,\"ticks\":\"\"}}}],\"histogram\":[{\"marker\":{\"pattern\":{\"fillmode\":\"overlay\",\"size\":10,\"solidity\":0.2}},\"type\":\"histogram\"}],\"scattergl\":[{\"type\":\"scattergl\",\"marker\":{\"colorbar\":{\"outlinewidth\":0,\"ticks\":\"\"}}}],\"scatter3d\":[{\"type\":\"scatter3d\",\"line\":{\"colorbar\":{\"outlinewidth\":0,\"ticks\":\"\"}},\"marker\":{\"colorbar\":{\"outlinewidth\":0,\"ticks\":\"\"}}}],\"scattermapbox\":[{\"type\":\"scattermapbox\",\"marker\":{\"colorbar\":{\"outlinewidth\":0,\"ticks\":\"\"}}}],\"scatterternary\":[{\"type\":\"scatterternary\",\"marker\":{\"colorbar\":{\"outlinewidth\":0,\"ticks\":\"\"}}}],\"scattercarpet\":[{\"type\":\"scattercarpet\",\"marker\":{\"colorbar\":{\"outlinewidth\":0,\"ticks\":\"\"}}}],\"carpet\":[{\"aaxis\":{\"endlinecolor\":\"#2a3f5f\",\"gridcolor\":\"white\",\"linecolor\":\"white\",\"minorgridcolor\":\"white\",\"startlinecolor\":\"#2a3f5f\"},\"baxis\":{\"endlinecolor\":\"#2a3f5f\",\"gridcolor\":\"white\",\"linecolor\":\"white\",\"minorgridcolor\":\"white\",\"startlinecolor\":\"#2a3f5f\"},\"type\":\"carpet\"}],\"table\":[{\"cells\":{\"fill\":{\"color\":\"#EBF0F8\"},\"line\":{\"color\":\"white\"}},\"header\":{\"fill\":{\"color\":\"#C8D4E3\"},\"line\":{\"color\":\"white\"}},\"type\":\"table\"}],\"barpolar\":[{\"marker\":{\"line\":{\"color\":\"#E5ECF6\",\"width\":0.5},\"pattern\":{\"fillmode\":\"overlay\",\"size\":10,\"solidity\":0.2}},\"type\":\"barpolar\"}],\"pie\":[{\"automargin\":true,\"type\":\"pie\"}]},\"layout\":{\"autotypenumbers\":\"strict\",\"colorway\":[\"#636efa\",\"#EF553B\",\"#00cc96\",\"#ab63fa\",\"#FFA15A\",\"#19d3f3\",\"#FF6692\",\"#B6E880\",\"#FF97FF\",\"#FECB52\"],\"font\":{\"color\":\"#2a3f5f\"},\"hovermode\":\"closest\",\"hoverlabel\":{\"align\":\"left\"},\"paper_bgcolor\":\"white\",\"plot_bgcolor\":\"#E5ECF6\",\"polar\":{\"bgcolor\":\"#E5ECF6\",\"angularaxis\":{\"gridcolor\":\"white\",\"linecolor\":\"white\",\"ticks\":\"\"},\"radialaxis\":{\"gridcolor\":\"white\",\"linecolor\":\"white\",\"ticks\":\"\"}},\"ternary\":{\"bgcolor\":\"#E5ECF6\",\"aaxis\":{\"gridcolor\":\"white\",\"linecolor\":\"white\",\"ticks\":\"\"},\"baxis\":{\"gridcolor\":\"white\",\"linecolor\":\"white\",\"ticks\":\"\"},\"caxis\":{\"gridcolor\":\"white\",\"linecolor\":\"white\",\"ticks\":\"\"}},\"coloraxis\":{\"colorbar\":{\"outlinewidth\":0,\"ticks\":\"\"}},\"colorscale\":{\"sequential\":[[0.0,\"#0d0887\"],[0.1111111111111111,\"#46039f\"],[0.2222222222222222,\"#7201a8\"],[0.3333333333333333,\"#9c179e\"],[0.4444444444444444,\"#bd3786\"],[0.5555555555555556,\"#d8576b\"],[0.6666666666666666,\"#ed7953\"],[0.7777777777777778,\"#fb9f3a\"],[0.8888888888888888,\"#fdca26\"],[1.0,\"#f0f921\"]],\"sequentialminus\":[[0.0,\"#0d0887\"],[0.1111111111111111,\"#46039f\"],[0.2222222222222222,\"#7201a8\"],[0.3333333333333333,\"#9c179e\"],[0.4444444444444444,\"#bd3786\"],[0.5555555555555556,\"#d8576b\"],[0.6666666666666666,\"#ed7953\"],[0.7777777777777778,\"#fb9f3a\"],[0.8888888888888888,\"#fdca26\"],[1.0,\"#f0f921\"]],\"diverging\":[[0,\"#8e0152\"],[0.1,\"#c51b7d\"],[0.2,\"#de77ae\"],[0.3,\"#f1b6da\"],[0.4,\"#fde0ef\"],[0.5,\"#f7f7f7\"],[0.6,\"#e6f5d0\"],[0.7,\"#b8e186\"],[0.8,\"#7fbc41\"],[0.9,\"#4d9221\"],[1,\"#276419\"]]},\"xaxis\":{\"gridcolor\":\"white\",\"linecolor\":\"white\",\"ticks\":\"\",\"title\":{\"standoff\":15},\"zerolinecolor\":\"white\",\"automargin\":true,\"zerolinewidth\":2},\"yaxis\":{\"gridcolor\":\"white\",\"linecolor\":\"white\",\"ticks\":\"\",\"title\":{\"standoff\":15},\"zerolinecolor\":\"white\",\"automargin\":true,\"zerolinewidth\":2},\"scene\":{\"xaxis\":{\"backgroundcolor\":\"#E5ECF6\",\"gridcolor\":\"white\",\"linecolor\":\"white\",\"showbackground\":true,\"ticks\":\"\",\"zerolinecolor\":\"white\",\"gridwidth\":2},\"yaxis\":{\"backgroundcolor\":\"#E5ECF6\",\"gridcolor\":\"white\",\"linecolor\":\"white\",\"showbackground\":true,\"ticks\":\"\",\"zerolinecolor\":\"white\",\"gridwidth\":2},\"zaxis\":{\"backgroundcolor\":\"#E5ECF6\",\"gridcolor\":\"white\",\"linecolor\":\"white\",\"showbackground\":true,\"ticks\":\"\",\"zerolinecolor\":\"white\",\"gridwidth\":2}},\"shapedefaults\":{\"line\":{\"color\":\"#2a3f5f\"}},\"annotationdefaults\":{\"arrowcolor\":\"#2a3f5f\",\"arrowhead\":0,\"arrowwidth\":1},\"geo\":{\"bgcolor\":\"white\",\"landcolor\":\"#E5ECF6\",\"subunitcolor\":\"white\",\"showland\":true,\"showlakes\":true,\"lakecolor\":\"white\"},\"title\":{\"x\":0.05},\"mapbox\":{\"style\":\"light\"}}},\"title\":{\"text\":\"Credit Card Transactions versus Time Line Graph\"}},                        {\"responsive\": true}                    ).then(function(){\n",
              "                            \n",
              "var gd = document.getElementById('6aca9eee-1f1f-4dd3-9af5-04fc598a5153');\n",
              "var x = new MutationObserver(function (mutations, observer) {{\n",
              "        var display = window.getComputedStyle(gd).display;\n",
              "        if (!display || display === 'none') {{\n",
              "            console.log([gd, 'removed!']);\n",
              "            Plotly.purge(gd);\n",
              "            observer.disconnect();\n",
              "        }}\n",
              "}});\n",
              "\n",
              "// Listen for the removal of the full notebook cells\n",
              "var notebookContainer = gd.closest('#notebook-container');\n",
              "if (notebookContainer) {{\n",
              "    x.observe(notebookContainer, {childList: true});\n",
              "}}\n",
              "\n",
              "// Listen for the clearing of the current output cell\n",
              "var outputEl = gd.closest('.output');\n",
              "if (outputEl) {{\n",
              "    x.observe(outputEl, {childList: true});\n",
              "}}\n",
              "\n",
              "                        })                };                            </script>        </div>\n",
              "</body>\n",
              "</html>"
            ]
          },
          "metadata": {}
        }
      ]
    },
    {
      "cell_type": "markdown",
      "source": [
        "As can be seen through the density plot above, there is a evidential pattern that we observe between credit card transaction amounts and the time of the transactions. A density plot was chosen to display this correlation as this visually shows how transaction amounts are distributed over time, helping to identify patterns and anomalies, particularly in fraud detection. Futhermore, since we have this relationship fairly established, we can move on to setting this relationship in stone through training the model to detect a pattern.\n",
        "\n",
        "\n",
        "\n",
        "\n",
        "\n",
        "\n",
        "\n",
        "\n",
        "\n",
        "\n"
      ],
      "metadata": {
        "id": "_GO15xeNXddC"
      }
    },
    {
      "cell_type": "markdown",
      "source": [
        "**MODEL TRAINING**"
      ],
      "metadata": {
        "id": "PomxHICeBlGJ"
      }
    },
    {
      "cell_type": "code",
      "source": [
        "# choose variables to train the data with for the model\n",
        "train_features = train_df.drop(['Time', 'Class', 'Amount'], axis = 1)\n",
        "train_labels = train_df[\"Class\"]\n",
        "# model is utilizing variables V1 through V28\n",
        "train_features.head()\n",
        "train_labels.head()"
      ],
      "metadata": {
        "colab": {
          "base_uri": "https://localhost:8080/"
        },
        "id": "VFaQXTwgBnKN",
        "outputId": "9f57bb30-6f3e-47c4-cb81-58ad5246fa7b"
      },
      "execution_count": 6,
      "outputs": [
        {
          "output_type": "execute_result",
          "data": {
            "text/plain": [
              "0    0\n",
              "1    0\n",
              "2    0\n",
              "3    0\n",
              "4    0\n",
              "Name: Class, dtype: int64"
            ]
          },
          "metadata": {},
          "execution_count": 6
        }
      ]
    },
    {
      "cell_type": "markdown",
      "source": [
        "**DEFINE MODELS**"
      ],
      "metadata": {
        "id": "jZSTCr4KBs2X"
      }
    },
    {
      "cell_type": "code",
      "source": [
        "# define the models through importing appropriate libraries\n",
        "from sklearn.linear_model import LogisticRegression\n",
        "from sklearn.neural_network import MLPClassifier\n",
        "from sklearn.ensemble import RandomForestClassifier\n",
        "\n",
        "# initialize classifiers for machine learning models and set maximum iterations to 150\n",
        "lr_classifier = LogisticRegression(solver = 'lbfgs',max_iter = 150)\n",
        "mlp_classifier = MLPClassifier(solver = 'lbfgs', max_iter = 150)\n",
        "# initialize classifiers for machine learning models and ensure reproducibility\n",
        "rf_classifier = RandomForestClassifier(n_estimators = 150, random_state = 42)\n",
        "\n",
        "# train the models utilizing the provided dataset to make predictions\n",
        "lr_classifier.fit(train_features.to_numpy(),train_labels.to_numpy())\n",
        "mlp_classifier.fit(train_features.to_numpy(),train_labels.to_numpy())\n",
        "rf_classifier.fit(train_features.to_numpy(), train_labels.to_numpy())"
      ],
      "metadata": {
        "colab": {
          "base_uri": "https://localhost:8080/",
          "height": 74
        },
        "id": "9uYihpRZBveu",
        "outputId": "a411647e-ac2c-4a45-d5e1-b5180c8e970a"
      },
      "execution_count": 7,
      "outputs": [
        {
          "output_type": "execute_result",
          "data": {
            "text/plain": [
              "RandomForestClassifier(n_estimators=150, random_state=42)"
            ],
            "text/html": [
              "<style>#sk-container-id-1 {color: black;background-color: white;}#sk-container-id-1 pre{padding: 0;}#sk-container-id-1 div.sk-toggleable {background-color: white;}#sk-container-id-1 label.sk-toggleable__label {cursor: pointer;display: block;width: 100%;margin-bottom: 0;padding: 0.3em;box-sizing: border-box;text-align: center;}#sk-container-id-1 label.sk-toggleable__label-arrow:before {content: \"▸\";float: left;margin-right: 0.25em;color: #696969;}#sk-container-id-1 label.sk-toggleable__label-arrow:hover:before {color: black;}#sk-container-id-1 div.sk-estimator:hover label.sk-toggleable__label-arrow:before {color: black;}#sk-container-id-1 div.sk-toggleable__content {max-height: 0;max-width: 0;overflow: hidden;text-align: left;background-color: #f0f8ff;}#sk-container-id-1 div.sk-toggleable__content pre {margin: 0.2em;color: black;border-radius: 0.25em;background-color: #f0f8ff;}#sk-container-id-1 input.sk-toggleable__control:checked~div.sk-toggleable__content {max-height: 200px;max-width: 100%;overflow: auto;}#sk-container-id-1 input.sk-toggleable__control:checked~label.sk-toggleable__label-arrow:before {content: \"▾\";}#sk-container-id-1 div.sk-estimator input.sk-toggleable__control:checked~label.sk-toggleable__label {background-color: #d4ebff;}#sk-container-id-1 div.sk-label input.sk-toggleable__control:checked~label.sk-toggleable__label {background-color: #d4ebff;}#sk-container-id-1 input.sk-hidden--visually {border: 0;clip: rect(1px 1px 1px 1px);clip: rect(1px, 1px, 1px, 1px);height: 1px;margin: -1px;overflow: hidden;padding: 0;position: absolute;width: 1px;}#sk-container-id-1 div.sk-estimator {font-family: monospace;background-color: #f0f8ff;border: 1px dotted black;border-radius: 0.25em;box-sizing: border-box;margin-bottom: 0.5em;}#sk-container-id-1 div.sk-estimator:hover {background-color: #d4ebff;}#sk-container-id-1 div.sk-parallel-item::after {content: \"\";width: 100%;border-bottom: 1px solid gray;flex-grow: 1;}#sk-container-id-1 div.sk-label:hover label.sk-toggleable__label {background-color: #d4ebff;}#sk-container-id-1 div.sk-serial::before {content: \"\";position: absolute;border-left: 1px solid gray;box-sizing: border-box;top: 0;bottom: 0;left: 50%;z-index: 0;}#sk-container-id-1 div.sk-serial {display: flex;flex-direction: column;align-items: center;background-color: white;padding-right: 0.2em;padding-left: 0.2em;position: relative;}#sk-container-id-1 div.sk-item {position: relative;z-index: 1;}#sk-container-id-1 div.sk-parallel {display: flex;align-items: stretch;justify-content: center;background-color: white;position: relative;}#sk-container-id-1 div.sk-item::before, #sk-container-id-1 div.sk-parallel-item::before {content: \"\";position: absolute;border-left: 1px solid gray;box-sizing: border-box;top: 0;bottom: 0;left: 50%;z-index: -1;}#sk-container-id-1 div.sk-parallel-item {display: flex;flex-direction: column;z-index: 1;position: relative;background-color: white;}#sk-container-id-1 div.sk-parallel-item:first-child::after {align-self: flex-end;width: 50%;}#sk-container-id-1 div.sk-parallel-item:last-child::after {align-self: flex-start;width: 50%;}#sk-container-id-1 div.sk-parallel-item:only-child::after {width: 0;}#sk-container-id-1 div.sk-dashed-wrapped {border: 1px dashed gray;margin: 0 0.4em 0.5em 0.4em;box-sizing: border-box;padding-bottom: 0.4em;background-color: white;}#sk-container-id-1 div.sk-label label {font-family: monospace;font-weight: bold;display: inline-block;line-height: 1.2em;}#sk-container-id-1 div.sk-label-container {text-align: center;}#sk-container-id-1 div.sk-container {/* jupyter's `normalize.less` sets `[hidden] { display: none; }` but bootstrap.min.css set `[hidden] { display: none !important; }` so we also need the `!important` here to be able to override the default hidden behavior on the sphinx rendered scikit-learn.org. See: https://github.com/scikit-learn/scikit-learn/issues/21755 */display: inline-block !important;position: relative;}#sk-container-id-1 div.sk-text-repr-fallback {display: none;}</style><div id=\"sk-container-id-1\" class=\"sk-top-container\"><div class=\"sk-text-repr-fallback\"><pre>RandomForestClassifier(n_estimators=150, random_state=42)</pre><b>In a Jupyter environment, please rerun this cell to show the HTML representation or trust the notebook. <br />On GitHub, the HTML representation is unable to render, please try loading this page with nbviewer.org.</b></div><div class=\"sk-container\" hidden><div class=\"sk-item\"><div class=\"sk-estimator sk-toggleable\"><input class=\"sk-toggleable__control sk-hidden--visually\" id=\"sk-estimator-id-1\" type=\"checkbox\" checked><label for=\"sk-estimator-id-1\" class=\"sk-toggleable__label sk-toggleable__label-arrow\">RandomForestClassifier</label><div class=\"sk-toggleable__content\"><pre>RandomForestClassifier(n_estimators=150, random_state=42)</pre></div></div></div></div></div>"
            ]
          },
          "metadata": {},
          "execution_count": 7
        }
      ]
    },
    {
      "cell_type": "markdown",
      "source": [
        "**MODEL TESTING**"
      ],
      "metadata": {
        "id": "JB47E4uPCZHa"
      }
    },
    {
      "cell_type": "code",
      "source": [
        "# import appropriate library\n",
        "from sklearn.metrics import accuracy_score\n",
        "\n",
        "# test the model (output will be accuracy score results)\n",
        "test_inputs = test_df.drop(['Time','Class','Amount'], axis = 1)\n",
        "y_actual = test_df[\"Class\"]\n",
        "\n",
        "#logistic classifer\n",
        "y_predicted_lr = lr_classifier.predict(test_inputs.to_numpy())\n",
        "lr_accuracy_score = accuracy_score(y_predicted_lr,y_actual)\n",
        "\n",
        "#mlp classifier\n",
        "y_predicted_mlp = mlp_classifier.predict(test_inputs.to_numpy())\n",
        "mlp_accuracy_score = accuracy_score(y_predicted_mlp,y_actual)\n",
        "\n",
        "#random forest\n",
        "y_predicted_rf = rf_classifier.predict(test_inputs.to_numpy())\n",
        "rf_accuracy_score = accuracy_score(y_predicted_rf, y_actual)\n",
        "\n",
        "print (f\"Accuracy of the Logistic Classifier:{lr_accuracy_score}\")\n",
        "print (f\"Accuracy of the MLP Classifier: {mlp_accuracy_score}\")\n",
        "print(f\"Accuracy of the Random Forest Classifier: {rf_accuracy_score}\")"
      ],
      "metadata": {
        "colab": {
          "base_uri": "https://localhost:8080/"
        },
        "id": "9AyNHEOVBxKp",
        "outputId": "ea0cf958-b351-492b-9c05-5935e961cfbe"
      },
      "execution_count": 11,
      "outputs": [
        {
          "output_type": "stream",
          "name": "stdout",
          "text": [
            "Accuracy of the Logistic Classifier:1.0\n",
            "Accuracy of the MLP Classifier: 1.0\n",
            "Accuracy of the Random Forest Classifier: 1.0\n"
          ]
        }
      ]
    },
    {
      "cell_type": "markdown",
      "source": [
        "**RESULTS**\n",
        "\n",
        "*WARNING: It is possible for the results to vary each run*\n",
        "\n",
        "**Logistic Classifier:**\n",
        "\n",
        "Accuracy: 99.7%\n",
        "\n",
        "\n",
        "**MLP Classifier**\n",
        "\n",
        "Accuracy: 99.8%\n",
        "\n",
        "\n",
        "**Random Forest Classifier**\n",
        "\n",
        "Accuracy: 99.8%\n",
        "\n",
        "\n",
        "As can be seen, the Logistics Classifier, MLP Classifier, and Random Forsest Classifier all reached the same level of accuracy: 99.7%. This implies that all three methods can be deemed as equally efficient in identifying whether or not the credit card transactions were labeled correctly or not in terms of being fradulent or not fradulent."
      ],
      "metadata": {
        "id": "1TOic9QZbnOl"
      }
    },
    {
      "cell_type": "markdown",
      "source": [
        "**CLASS ACCURACY TEST**"
      ],
      "metadata": {
        "id": "C6T2BIFweyVV"
      }
    },
    {
      "cell_type": "code",
      "source": [
        "from sklearn.metrics import classification_report\n",
        "\n",
        "# Logistic Classifier\n",
        "print(\"Logistic Classifier:\")\n",
        "print(classification_report(y_actual, y_predicted_lr))\n",
        "\n",
        "# MLP Classifier\n",
        "print(\"MLP Classifier:\")\n",
        "print(classification_report(y_actual, y_predicted_mlp))\n",
        "\n",
        "# Random Forest Classifier\n",
        "print(\"Random Forest Classifier:\")\n",
        "print(classification_report(y_actual, y_predicted_rf))"
      ],
      "metadata": {
        "colab": {
          "base_uri": "https://localhost:8080/"
        },
        "id": "CI5dv7UHe6zj",
        "outputId": "f5915fc1-1383-4732-c77a-0a79d5b56138"
      },
      "execution_count": 12,
      "outputs": [
        {
          "output_type": "stream",
          "name": "stdout",
          "text": [
            "Logistic Classifier:\n",
            "              precision    recall  f1-score   support\n",
            "\n",
            "           0       1.00      1.00      1.00      1000\n",
            "\n",
            "    accuracy                           1.00      1000\n",
            "   macro avg       1.00      1.00      1.00      1000\n",
            "weighted avg       1.00      1.00      1.00      1000\n",
            "\n",
            "MLP Classifier:\n",
            "              precision    recall  f1-score   support\n",
            "\n",
            "           0       1.00      1.00      1.00      1000\n",
            "\n",
            "    accuracy                           1.00      1000\n",
            "   macro avg       1.00      1.00      1.00      1000\n",
            "weighted avg       1.00      1.00      1.00      1000\n",
            "\n",
            "Random Forest Classifier:\n",
            "              precision    recall  f1-score   support\n",
            "\n",
            "           0       1.00      1.00      1.00      1000\n",
            "\n",
            "    accuracy                           1.00      1000\n",
            "   macro avg       1.00      1.00      1.00      1000\n",
            "weighted avg       1.00      1.00      1.00      1000\n",
            "\n"
          ]
        }
      ]
    },
    {
      "cell_type": "markdown",
      "source": [
        "**MODEL TESTING PART 2**"
      ],
      "metadata": {
        "id": "3anSH6dTFKPi"
      }
    },
    {
      "cell_type": "code",
      "source": [
        "# use only V1-V18 to train the model as it has the highest correlation\n",
        "train_features2 = train_df[['V1', 'V2', 'V3', 'V4', 'V5', 'V6', 'V7', 'V8', 'V9',\n",
        "                            'V10', 'V11', 'V12', 'V13', 'V14', 'V15', 'V16', 'V17', 'V18']]\n",
        "train_labels2 = train_df[\"Class\"]\n",
        "train_features2.head()\n",
        "train_labels2.head()"
      ],
      "metadata": {
        "colab": {
          "base_uri": "https://localhost:8080/"
        },
        "id": "vFVbcsgFE0yX",
        "outputId": "8d424a75-5042-42d4-f75a-94c4439b23bd"
      },
      "execution_count": 15,
      "outputs": [
        {
          "output_type": "execute_result",
          "data": {
            "text/plain": [
              "0    0\n",
              "1    0\n",
              "2    0\n",
              "3    0\n",
              "4    0\n",
              "Name: Class, dtype: int64"
            ]
          },
          "metadata": {},
          "execution_count": 15
        }
      ]
    },
    {
      "cell_type": "markdown",
      "source": [
        "**DEFINE AND TRAIN MODEL PART 2**"
      ],
      "metadata": {
        "id": "OwV_7EOzFWVn"
      }
    },
    {
      "cell_type": "code",
      "source": [
        "# define the models through importing appropriate libraries\n",
        "from sklearn.linear_model import LogisticRegression\n",
        "from sklearn.neural_network import MLPClassifier\n",
        "from sklearn.ensemble import RandomForestClassifier\n",
        "# initialize classifiers for machine learning models and set maximum iterations\n",
        "lr_classifier = LogisticRegression(solver='lbfgs',max_iter = 150)\n",
        "mlp_classifier = MLPClassifier(solver='lbfgs',max_iter = 150)\n",
        "rf_classifier = RandomForestClassifier(n_estimators = 150, random_state = 42)\n",
        "# train the models\n",
        "lr_classifier.fit(train_features2.to_numpy(),train_labels2.to_numpy())\n",
        "mlp_classifier.fit(train_features2.to_numpy(),train_labels2.to_numpy())\n",
        "rf_classifier.fit(train_features2.to_numpy(), train_labels2.to_numpy())"
      ],
      "metadata": {
        "colab": {
          "base_uri": "https://localhost:8080/",
          "height": 74
        },
        "id": "7PEVZfUkE18y",
        "outputId": "037c8873-16a8-4eef-fffc-c3e176bfe7cd"
      },
      "execution_count": 19,
      "outputs": [
        {
          "output_type": "execute_result",
          "data": {
            "text/plain": [
              "RandomForestClassifier(n_estimators=150, random_state=42)"
            ],
            "text/html": [
              "<style>#sk-container-id-3 {color: black;background-color: white;}#sk-container-id-3 pre{padding: 0;}#sk-container-id-3 div.sk-toggleable {background-color: white;}#sk-container-id-3 label.sk-toggleable__label {cursor: pointer;display: block;width: 100%;margin-bottom: 0;padding: 0.3em;box-sizing: border-box;text-align: center;}#sk-container-id-3 label.sk-toggleable__label-arrow:before {content: \"▸\";float: left;margin-right: 0.25em;color: #696969;}#sk-container-id-3 label.sk-toggleable__label-arrow:hover:before {color: black;}#sk-container-id-3 div.sk-estimator:hover label.sk-toggleable__label-arrow:before {color: black;}#sk-container-id-3 div.sk-toggleable__content {max-height: 0;max-width: 0;overflow: hidden;text-align: left;background-color: #f0f8ff;}#sk-container-id-3 div.sk-toggleable__content pre {margin: 0.2em;color: black;border-radius: 0.25em;background-color: #f0f8ff;}#sk-container-id-3 input.sk-toggleable__control:checked~div.sk-toggleable__content {max-height: 200px;max-width: 100%;overflow: auto;}#sk-container-id-3 input.sk-toggleable__control:checked~label.sk-toggleable__label-arrow:before {content: \"▾\";}#sk-container-id-3 div.sk-estimator input.sk-toggleable__control:checked~label.sk-toggleable__label {background-color: #d4ebff;}#sk-container-id-3 div.sk-label input.sk-toggleable__control:checked~label.sk-toggleable__label {background-color: #d4ebff;}#sk-container-id-3 input.sk-hidden--visually {border: 0;clip: rect(1px 1px 1px 1px);clip: rect(1px, 1px, 1px, 1px);height: 1px;margin: -1px;overflow: hidden;padding: 0;position: absolute;width: 1px;}#sk-container-id-3 div.sk-estimator {font-family: monospace;background-color: #f0f8ff;border: 1px dotted black;border-radius: 0.25em;box-sizing: border-box;margin-bottom: 0.5em;}#sk-container-id-3 div.sk-estimator:hover {background-color: #d4ebff;}#sk-container-id-3 div.sk-parallel-item::after {content: \"\";width: 100%;border-bottom: 1px solid gray;flex-grow: 1;}#sk-container-id-3 div.sk-label:hover label.sk-toggleable__label {background-color: #d4ebff;}#sk-container-id-3 div.sk-serial::before {content: \"\";position: absolute;border-left: 1px solid gray;box-sizing: border-box;top: 0;bottom: 0;left: 50%;z-index: 0;}#sk-container-id-3 div.sk-serial {display: flex;flex-direction: column;align-items: center;background-color: white;padding-right: 0.2em;padding-left: 0.2em;position: relative;}#sk-container-id-3 div.sk-item {position: relative;z-index: 1;}#sk-container-id-3 div.sk-parallel {display: flex;align-items: stretch;justify-content: center;background-color: white;position: relative;}#sk-container-id-3 div.sk-item::before, #sk-container-id-3 div.sk-parallel-item::before {content: \"\";position: absolute;border-left: 1px solid gray;box-sizing: border-box;top: 0;bottom: 0;left: 50%;z-index: -1;}#sk-container-id-3 div.sk-parallel-item {display: flex;flex-direction: column;z-index: 1;position: relative;background-color: white;}#sk-container-id-3 div.sk-parallel-item:first-child::after {align-self: flex-end;width: 50%;}#sk-container-id-3 div.sk-parallel-item:last-child::after {align-self: flex-start;width: 50%;}#sk-container-id-3 div.sk-parallel-item:only-child::after {width: 0;}#sk-container-id-3 div.sk-dashed-wrapped {border: 1px dashed gray;margin: 0 0.4em 0.5em 0.4em;box-sizing: border-box;padding-bottom: 0.4em;background-color: white;}#sk-container-id-3 div.sk-label label {font-family: monospace;font-weight: bold;display: inline-block;line-height: 1.2em;}#sk-container-id-3 div.sk-label-container {text-align: center;}#sk-container-id-3 div.sk-container {/* jupyter's `normalize.less` sets `[hidden] { display: none; }` but bootstrap.min.css set `[hidden] { display: none !important; }` so we also need the `!important` here to be able to override the default hidden behavior on the sphinx rendered scikit-learn.org. See: https://github.com/scikit-learn/scikit-learn/issues/21755 */display: inline-block !important;position: relative;}#sk-container-id-3 div.sk-text-repr-fallback {display: none;}</style><div id=\"sk-container-id-3\" class=\"sk-top-container\"><div class=\"sk-text-repr-fallback\"><pre>RandomForestClassifier(n_estimators=150, random_state=42)</pre><b>In a Jupyter environment, please rerun this cell to show the HTML representation or trust the notebook. <br />On GitHub, the HTML representation is unable to render, please try loading this page with nbviewer.org.</b></div><div class=\"sk-container\" hidden><div class=\"sk-item\"><div class=\"sk-estimator sk-toggleable\"><input class=\"sk-toggleable__control sk-hidden--visually\" id=\"sk-estimator-id-3\" type=\"checkbox\" checked><label for=\"sk-estimator-id-3\" class=\"sk-toggleable__label sk-toggleable__label-arrow\">RandomForestClassifier</label><div class=\"sk-toggleable__content\"><pre>RandomForestClassifier(n_estimators=150, random_state=42)</pre></div></div></div></div></div>"
            ]
          },
          "metadata": {},
          "execution_count": 19
        }
      ]
    },
    {
      "cell_type": "markdown",
      "source": [
        "**ACCURACY RESULTS**"
      ],
      "metadata": {
        "id": "xuPnXZi-FesA"
      }
    },
    {
      "cell_type": "code",
      "source": [
        "from sklearn.metrics import accuracy_score\n",
        "\n",
        "test_inputs = test_df[['V1', 'V2', 'V3', 'V4', 'V5', 'V6', 'V7', 'V8', 'V9',\n",
        "                       'V10', 'V11', 'V12', 'V13', 'V14', 'V15', 'V16', 'V17', 'V18']]\n",
        "y_actual = test_df[\"Class\"]\n",
        "\n",
        "# logistic classifer\n",
        "y_predicted_lr = lr_classifier.predict(test_inputs.to_numpy())\n",
        "lr_accuracy_score = accuracy_score(y_predicted_lr,y_actual)\n",
        "\n",
        "# mlp classifier\n",
        "y_predicted_mlp = mlp_classifier.predict(test_inputs.to_numpy())\n",
        "mlp_accuracy_score = accuracy_score(y_predicted_mlp,y_actual)\n",
        "\n",
        "# random forest\n",
        "y_predicted_rf = rf_classifier.predict(test_inputs.to_numpy())\n",
        "rf_accuracy_score = accuracy_score(y_predicted_rf, y_actual)\n",
        "\n",
        "print (f\"Accuracy of the Logistic Classifier (V1-V18) = {lr_accuracy_score}\")\n",
        "print (f\"Accuracy of the MLP Classifier (V1-V18) = {mlp_accuracy_score}\")\n",
        "print(f\"Accuracy of the Random Forest Classifier (V1-V18) = {rf_accuracy_score}\")"
      ],
      "metadata": {
        "colab": {
          "base_uri": "https://localhost:8080/"
        },
        "id": "uDy_t13XE5r2",
        "outputId": "00ea4acc-b09f-4145-bfdc-7e6e6786f6c8"
      },
      "execution_count": 17,
      "outputs": [
        {
          "output_type": "stream",
          "name": "stdout",
          "text": [
            "Accuracy of the Logistic Classifier (V1-V18) = 1.0\n",
            "Accuracy of the MLP Classifier (V1-V18) = 1.0\n",
            "Accuracy of the Random Forest Classifier (V1-V18) = 1.0\n"
          ]
        }
      ]
    },
    {
      "cell_type": "markdown",
      "source": [
        "**RESULTS**\n",
        "\n",
        "*WARNING: It is possible for the results to vary each run*\n",
        "\n",
        "**Logistic Classifier:**\n",
        "\n",
        "Accuracy: 100%\n",
        "\n",
        "\n",
        "**MLP Classifier**\n",
        "\n",
        "Accuracy: 100%\n",
        "\n",
        "\n",
        "**Random Forest Classifier**\n",
        "\n",
        "Accuracy: 100%\n",
        "\n",
        "\n",
        "As can be seen, the Logistics Classifier, MLP Classifier, and Random Forsest Classifier all reached the same level of accuracy: 100%. This implies that all three methods can be deemed as equally efficient in identifying whether or not the credit card transactions were labeled correctly or not in terms of being fradulent or not fradulent.\n"
      ],
      "metadata": {
        "id": "IQXDaJMnGqiS"
      }
    },
    {
      "cell_type": "markdown",
      "source": [
        "**CLASS ACCURACY TEST**"
      ],
      "metadata": {
        "id": "0nrT9qqpFiFA"
      }
    },
    {
      "cell_type": "code",
      "source": [
        "from sklearn.metrics import classification_report\n",
        "\n",
        "# Logistic Classifier\n",
        "print(\"Logistic Classifier:\")\n",
        "print(classification_report(y_actual, y_predicted_lr))\n",
        "\n",
        "# MLP Classifier\n",
        "print(\"MLP Classifier:\")\n",
        "print(classification_report(y_actual, y_predicted_mlp))\n",
        "\n",
        "# Random Forest Classifier\n",
        "print(\"Random Forest Classifier:\")\n",
        "print(classification_report(y_actual, y_predicted_rf))"
      ],
      "metadata": {
        "colab": {
          "base_uri": "https://localhost:8080/"
        },
        "id": "d7-pnssJE_JS",
        "outputId": "6977370a-520c-4bee-acd6-59dd851ae8ec"
      },
      "execution_count": 18,
      "outputs": [
        {
          "output_type": "stream",
          "name": "stdout",
          "text": [
            "Logistic Classifier:\n",
            "              precision    recall  f1-score   support\n",
            "\n",
            "           0       1.00      1.00      1.00      1000\n",
            "\n",
            "    accuracy                           1.00      1000\n",
            "   macro avg       1.00      1.00      1.00      1000\n",
            "weighted avg       1.00      1.00      1.00      1000\n",
            "\n",
            "MLP Classifier:\n",
            "              precision    recall  f1-score   support\n",
            "\n",
            "           0       1.00      1.00      1.00      1000\n",
            "\n",
            "    accuracy                           1.00      1000\n",
            "   macro avg       1.00      1.00      1.00      1000\n",
            "weighted avg       1.00      1.00      1.00      1000\n",
            "\n",
            "Random Forest Classifier:\n",
            "              precision    recall  f1-score   support\n",
            "\n",
            "           0       1.00      1.00      1.00      1000\n",
            "\n",
            "    accuracy                           1.00      1000\n",
            "   macro avg       1.00      1.00      1.00      1000\n",
            "weighted avg       1.00      1.00      1.00      1000\n",
            "\n"
          ]
        }
      ]
    },
    {
      "cell_type": "markdown",
      "source": [
        "**CONCLUSION**:\n",
        "\n",
        "To detect whether or not the credit card transactions were labeled correctly in terms of being fradulent or not fradulent, we ran two tests. The first test was on the features V1 to V28, and the results showed that the Random Forest Classifier and MLP Classifier has the highest accuracy. The Logistics Classifier also showed high accuracy trailing right behind the other two models.\n",
        "\n",
        "The second test was on features V1 to V18 because the heatmap showed that these transcations were the most correlated features. Overall, the Logistic, MLP, and Random Forest Classifiers outputted a higher accuracy rate than the first test where all of them outputted an accuracy of 100%\n",
        "\n",
        "Overall, accuracy is just one metric to determine a model's performance. It is important to consider for future tests to explore additional metrics such as precision, recall, F1 score, and confusion matrices to get a better in depth understanding of the model, especially if there are imbalances with the classes in the dataset. Since the classes were split evenly in half in the dataset, we could suffice with just using accuracy as the metric. Another thing to consider for the future is whether misclassification of costs can influence the models. Some limitations with accuracy is that it is sensitive to data pre-processing, meaning that different pre-processing techiques could lead to different accuracy scores. Aditionally, another limitation is that this dataset and model that we created may not fully reflect the real world. For instance, a high accuracy in identifying non-fraudulent cases and a low accuracy in detecting fraudulent cases is not useful in fraud detection as it truly doesn't combat the problem at hand which is credit card fraud."
      ],
      "metadata": {
        "id": "_8T3HXR5G-jl"
      }
    }
  ]
}
